{
  "nbformat": 4,
  "nbformat_minor": 5,
  "metadata": {
    "kernelspec": {
      "display_name": "Python 3",
      "language": "python",
      "name": "python3"
    },
    "language_info": {
      "codemirror_mode": {
        "name": "ipython",
        "version": 3
      },
      "file_extension": ".py",
      "mimetype": "text/x-python",
      "name": "python",
      "nbconvert_exporter": "python",
      "pygments_lexer": "ipython3",
      "version": "3.8.8"
    },
    "colab": {
      "name": "DATA PREPROCESSING Bahasa Inggris.ipynb",
      "provenance": [],
      "collapsed_sections": [
        "wOYBUaO9W-in"
      ]
    }
  },
  "cells": [
    {
      "cell_type": "code",
      "metadata": {
        "id": "TmDcEBQ3qCOj"
      },
      "source": [
        "# NLTK, library NLP di bahasa pemrograman python\n",
        "import nltk\n",
        "\n",
        "# Regex (re), library untuk mengenali dan memanipulasi pola text\n",
        "import re\n",
        "\n",
        "from nltk.corpus import stopwords\n",
        "from nltk.stem import SnowballStemmer\n",
        "from nltk.stem import PorterStemmer\n",
        "from nltk.stem import LancasterStemmer\n",
        "from nltk.stem import WordNetLemmatizer\n",
        "from nltk import word_tokenize\n",
        "import requests\n"
      ],
      "id": "TmDcEBQ3qCOj",
      "execution_count": null,
      "outputs": []
    },
    {
      "cell_type": "code",
      "metadata": {
        "colab": {
          "base_uri": "https://localhost:8080/"
        },
        "id": "9W5Kzmqtn4rV",
        "outputId": "b26f1146-2f9a-4cab-c11a-514dec9eed01"
      },
      "source": [
        "nltk.download('punkt')\n",
        "nltk.download('stopwords')\n",
        "nltk.download('wordnet')"
      ],
      "id": "9W5Kzmqtn4rV",
      "execution_count": null,
      "outputs": [
        {
          "output_type": "stream",
          "name": "stdout",
          "text": [
            "[nltk_data] Downloading package punkt to /root/nltk_data...\n",
            "[nltk_data]   Unzipping tokenizers/punkt.zip.\n",
            "[nltk_data] Downloading package stopwords to /root/nltk_data...\n",
            "[nltk_data]   Unzipping corpora/stopwords.zip.\n",
            "[nltk_data] Downloading package wordnet to /root/nltk_data...\n",
            "[nltk_data]   Unzipping corpora/wordnet.zip.\n"
          ]
        },
        {
          "output_type": "execute_result",
          "data": {
            "text/plain": [
              "True"
            ]
          },
          "metadata": {},
          "execution_count": 3
        }
      ]
    },
    {
      "cell_type": "code",
      "metadata": {
        "id": "v0VsnQuRfhZx",
        "colab": {
          "base_uri": "https://localhost:8080/",
          "height": 137
        },
        "outputId": "4cb1cc9a-14ca-4edf-b156-3676d6586f5c"
      },
      "source": [
        "text = requests.get('https://webscraper.io/blog/web-scraper-collaboration').text\n",
        "text"
      ],
      "id": "v0VsnQuRfhZx",
      "execution_count": null,
      "outputs": [
        {
          "output_type": "execute_result",
          "data": {
            "application/vnd.google.colaboratory.intrinsic+json": {
              "type": "string"
            },
            "text/plain": [
              "'<!DOCTYPE html>\\n<html lang=\"en\">\\n<head>\\n\\n\\t\\t\\t<!-- Anti-flicker snippet (recommended)  -->\\n<style>.async-hide {\\n\\t\\topacity: 0 !important\\n\\t} </style>\\n<script>(function (a, s, y, n, c, h, i, d, e) {\\n\\t\\ts.className += \\' \\' + y;\\n\\t\\th.start = 1 * new Date;\\n\\t\\th.end = i = function () {\\n\\t\\t\\ts.className = s.className.replace(RegExp(\\' ?\\' + y), \\'\\')\\n\\t\\t};\\n\\t\\t(a[n] = a[n] || []).hide = h;\\n\\t\\tsetTimeout(function () {\\n\\t\\t\\ti();\\n\\t\\t\\th.end = null\\n\\t\\t}, c);\\n\\t\\th.timeout = c;\\n\\t})(window, document.documentElement, \\'async-hide\\', \\'dataLayer\\', 4000,\\n\\t\\t{\\'GTM-NVFPDWB\\': true});</script>\\n\\t\\n\\t<!-- Google Tag Manager -->\\n<script>(function (w, d, s, l, i) {\\n\\t\\tw[l] = w[l] || [];\\n\\t\\tw[l].push({\\n\\t\\t\\t\\'gtm.start\\':\\n\\t\\t\\t\\tnew Date().getTime(), event: \\'gtm.js\\'\\n\\t\\t});\\n\\t\\tvar f = d.getElementsByTagName(s)[0],\\n\\t\\t\\tj = d.createElement(s), dl = l != \\'dataLayer\\' ? \\'&l=\\' + l : \\'\\';\\n\\t\\tj.async = true;\\n\\t\\tj.src =\\n\\t\\t\\t\\'https://www.googletagmanager.com/gtm.js?id=\\' + i + dl;\\n\\t\\tf.parentNode.insertBefore(j, f);\\n\\t})(window, document, \\'script\\', \\'dataLayer\\', \\'GTM-NVFPDWB\\');</script>\\n<!-- End Google Tag Manager -->\\n\\t<title>In Need of Data?</title>\\n\\t<meta charset=\"utf-8\">\\n\\t<meta http-equiv=\"X-UA-Compatible\" content=\"IE=edge,chrome=1\">\\n\\n\\t<meta name=\"keywords\"\\n\\t      content=\"Data, collaboration\"/>\\n\\t<meta name=\"description\"\\n\\t      content=\"Do you have a great idea for a project, article, or research, but you are in need of data for the perfect execution? Look no further, we are offering an offer of collaboration.\"/>\\n\\t<link rel=\"icon\" sizes=\"128x128\" href=\"/favicon.png\">\\n\\n\\t<meta name=\"viewport\" content=\"width=device-width, initial-scale=1.0\">\\n\\t\\n\\t<link rel=\"stylesheet\" href=\"/css/app.css?id=e4de8db16b64e604046e\">\\n\\n\\t<link rel=\"canonical\" href=\"https://webscraper.io/blog/web-scraper-collaboration\">\\n\\t<link rel=\"apple-touch-icon\" href=\"/img/logo-icon.png\">\\n\\n\\t\\t<script defer src=\"/js/app.js?id=e64f07a3ce1d466cf04c\"></script>\\n\\n\\t\\t\\t\\t<meta property=\"og:title\" content=\"In Need of Data?\"/>\\n\\t\\n\\t\\t\\t<meta property=\"og:description\" content=\"Do you have a great idea for a project, article, or research, but you are in need of data for the perfect execution? Look no further, we are offering an offer of collaboration.\"/>\\n\\t\\n\\t\\t\\t<meta property=\"og:image\" content=\"https://blog-images.webscraper.io/images/JXmXV5Q1EpDJSk5yDuOMJ6jCHFewKEjRQReK9dgO.png\"/>\\n\\t\\n\\t<meta name=\"twitter:card\" content=\"summary\"/>\\n\\n\\t\\t\\t<meta name=\"twitter:title\" content=\"In Need of Data?\"/>\\n\\t\\n\\t\\t\\t<meta name=\"twitter:description\" content=\"Do you have a great idea for a project, article, or research, but you are in need of data for the perfect execution? Look no further, we are offering an offer of collaboration.\"/>\\n\\t\\n</head>\\n<body>\\n<!-- Google Tag Manager (noscript) -->\\n<noscript>\\n\\t<iframe src=\"https://www.googletagmanager.com/ns.html?id=GTM-NVFPDWB\"\\n\\t        height=\"0\" width=\"0\" style=\"display:none;visibility:hidden\"></iframe>\\n</noscript>\\n<!-- End Google Tag Manager (noscript) -->\\n<header role=\"banner\" class=\"navbar navbar-fixed-top navbar-static\">\\n\\t<div class=\"container\">\\n\\n\\t\\t<div class=\"navbar-header\">\\n\\n\\t\\t\\t<a data-toggle=\"collapse-side\" data-target=\".side-collapse\" data-target-2=\".side-collapse-container\">\\n\\t\\t\\t\\t<button type=\"button\" class=\"navbar-toggle pull-right collapsed\" data-toggle=\"collapse\"\\n\\t\\t\\t\\t        data-target=\"#navbar\" data-target-2=\".side-collapse-container\" data-target-3=\".side-collapse\"\\n\\t\\t\\t\\t        aria-expanded=\"false\" aria-controls=\"navbar\">\\n\\n\\t\\t\\t\\t\\t<span class=\"sr-only\">Toggle navigation</span>\\n\\t\\t\\t\\t\\t<span class=\"icon-bar top-bar\"></span>\\n\\t\\t\\t\\t\\t<span class=\"icon-bar middle-bar\"></span>\\n\\t\\t\\t\\t\\t<span class=\"icon-bar bottom-bar\"></span>\\n\\n\\t\\t\\t\\t</button>\\n\\t\\t\\t</a>\\n\\t\\t\\t<div class=\"navbar-brand\">\\n\\t\\t\\t\\t<a href=\"/\"><img src=\"/img/logo_white.svg\" alt=\"Web Scraper\"></a>\\n\\t\\t\\t</div>\\n\\t\\t</div>\\n\\n\\t\\t<div class=\"side-collapse in\">\\n\\t\\t\\t<nav id=\"navbar\" role=\"navigation\" class=\"navbar-collapse collapse\">\\n\\t\\t\\t\\t<ul class=\"nav navbar-nav navbar-right\">\\n\\t\\t\\t\\t\\t<li class=\"hidden\">\\n\\t\\t\\t\\t\\t\\t<a href=\"#page-top\"></a>\\n\\t\\t\\t\\t\\t</li>\\n\\t\\t\\t\\t\\t\\n\\t\\t\\t\\t\\t\\n\\t\\t\\t\\t\\t\\n\\t\\t\\t\\t\\t\\n\\t\\t\\t\\t\\t\\n\\t\\t\\t\\t\\t\\n\\t\\t\\t\\t\\t\\n\\t\\t\\t\\t\\t<li>\\n\\t\\t\\t\\t\\t\\t<a href=\"/\" class=\"menuitm\">\\n\\t\\t\\t\\t\\t\\t\\t<p>Web Scraper</p>\\n\\t\\t\\t\\t\\t\\t\\t<div class=\"crta\"></div>\\n\\t\\t\\t\\t\\t\\t</a>\\n\\t\\t\\t\\t\\t</li>\\n\\t\\t\\t\\t\\t<li>\\n\\t\\t\\t\\t\\t\\t<a href=\"/cloud-scraper\" class=\"menuitm\">\\n\\t\\t\\t\\t\\t\\t\\t<p>Cloud Scraper</p>\\n\\t\\t\\t\\t\\t\\t\\t<div class=\"crta\"></div>\\n\\t\\t\\t\\t\\t\\t</a>\\n\\t\\t\\t\\t\\t</li>\\n\\t\\t\\t\\t\\t<li>\\n\\t\\t\\t\\t\\t\\t<a href=\"/pricing\" class=\"menuitm\">\\n\\t\\t\\t\\t\\t\\t\\t<p>Pricing</p>\\n\\t\\t\\t\\t\\t\\t\\t<div class=\"crta\"></div>\\n\\t\\t\\t\\t\\t\\t</a>\\n\\t\\t\\t\\t\\t</li>\\n\\t\\t\\t\\t\\t\\n\\t\\t\\t\\t\\t\\n\\t\\t\\t\\t\\t\\n\\t\\t\\t\\t\\t\\n\\t\\t\\t\\t\\t\\n\\t\\t\\t\\t\\t\\n\\t\\t\\t\\t\\t\\n\\t\\t\\t\\t\\t\\n\\t\\t\\t\\t\\t\\n\\t\\t\\t\\t\\t\\n\\t\\t\\t\\t\\t<li class=\"dropdown\">\\n\\t\\t\\t\\t\\t\\t<a href=\"#section3\" class=\"menuitm dropdown-toggle\" data-toggle=\"dropdown\">\\n\\t\\t\\t\\t\\t\\t\\t<p>Learn</p>\\n\\t\\t\\t\\t\\t\\t\\t<div class=\"crta\"></div>\\n\\t\\t\\t\\t\\t\\t</a>\\n\\t\\t\\t\\t\\t\\t<ul class=\"dropdown-menu\">\\n\\t\\t\\t\\t\\t\\t\\t<li>\\n\\t\\t\\t\\t\\t\\t\\t\\t<a href=\"/documentation\">Documentation</a>\\n\\t\\t\\t\\t\\t\\t\\t</li>\\n\\t\\t\\t\\t\\t\\t\\t<li>\\n\\t\\t\\t\\t\\t\\t\\t\\t<a href=\"/tutorials\">Video Tutorials</a>\\n\\t\\t\\t\\t\\t\\t\\t</li>\\n\\t\\t\\t\\t\\t\\t\\t<li>\\n\\t\\t\\t\\t\\t\\t\\t\\t<a href=\"/how-to-videos\">How to</a>\\n\\t\\t\\t\\t\\t\\t\\t</li>\\n\\t\\t\\t\\t\\t\\t\\t<li>\\n\\t\\t\\t\\t\\t\\t\\t\\t<a href=\"/test-sites\">Test Sites</a>\\n\\t\\t\\t\\t\\t\\t\\t</li>\\n\\t\\t\\t\\t\\t\\t\\t<li>\\n\\t\\t\\t\\t\\t\\t\\t\\t<a href=\"https://forum.webscraper.io/\" target=\"_blank\" rel=\"noopener\">Forum</a>\\n\\t\\t\\t\\t\\t\\t\\t</li>\\n\\t\\t\\t\\t\\t\\t</ul>\\n\\t\\t\\t\\t\\t</li>\\n\\t\\t\\t\\t\\t<li>\\n\\t\\t\\t\\t\\t\\t<a target=\"_blank\" href=\"https://chrome.google.com/webstore/detail/web-scraper/jnhgnonknehpejjnehehllkliplmbmhn?hl=en\" class=\"btn-menu1 install-extension\" rel=\"noopener\">Install</a>\\n\\t\\t\\t\\t\\t</li>\\n\\t\\t\\t\\t\\t<li>\\n\\t\\t\\t\\t\\t\\t<a href=\"https://cloud.webscraper.io/\" class=\"btn-menu2\">Login</a>\\n\\t\\t\\t\\t\\t</li>\\n\\t\\t\\t\\t</ul>\\n\\t\\t\\t</nav>\\n\\t\\t</div>\\n\\t</div>\\n</header>\\n\\n<div class=\"wrapper\">\\n\\t\\t<div class=\"formenu-here container-fluid\">\\n\\n\\t</div>\\n\\n\\t\\t<div class=\"container-fluid blog-page\">\\n\\t\\t<div class=\"container blog-content-container\">\\n\\t\\t\\t<div class=\"row\">\\n\\t\\t\\t\\t<div class=\"col-md-12\">\\n\\t\\t\\t\\t\\t<div class=\"bloginside\" itemscope itemtype=\"https://schema.org/Blog\">\\n\\t\\t\\t\\t\\t\\t<h1 itemprop=\"headline\">In Need of Data?</h1>\\n\\t\\t\\t\\t\\t\\t<p class=\"date\" itemprop=\"datePublished\">June 05, 2020</p>\\n\\t\\t\\t\\t\\t\\t<p class=\"category\" itemprop=\"keywords\">Data, collaboration</p>\\n\\n\\t\\t\\t\\t\\t\\t<ul class=\"share-buttons\">\\n\\t<li class=\"share-on-social facebook\">\\n\\t\\t<a class=\"share-button\" id=\"fbShareBtn\">\\n\\t\\t\\t<i class=\"fa fa-facebook\"></i>\\n\\t\\t</a>\\n\\t\\t<script>\\n\\t\\t\\tdocument.getElementById(\\'fbShareBtn\\').onclick = function () {\\n\\t\\t\\t\\twindow.open(\"https://www.facebook.com/sharer/sharer.php?u=\" + window.location.href, \"pop\", \"width=800, height=600, scrollbars=no\");\\n\\t\\t\\t};\\n\\t\\t</script>\\n\\t</li>\\n\\n\\t<li class=\"share-on-social twitter\">\\n\\t\\t<a class=\"share-button\" id=\"twitterShareBtn\">\\n\\t\\t\\t<i class=\"fa fa-twitter\"></i>\\n\\t\\t</a>\\n\\t\\t<script>\\n\\t\\t\\tdocument.getElementById(\\'twitterShareBtn\\').onclick = function () {\\n\\t\\t\\t\\twindow.open(\"https://twitter.com/intent/tweet?url=\" + encodeURIComponent(window.location.href), \"pop\", \"width=800, height=600, scrollbars=no\");\\n\\t\\t\\t};\\n\\t\\t</script>\\n\\t</li>\\n\\n\\t<li class=\"share-on-social linkedin\">\\n\\t\\t<a class=\"share-button\" id=\"linkedinShareBtn\">\\n\\t\\t\\t<i class=\"fa fa-linkedin\"></i>\\n\\t\\t</a>\\n\\t\\t<script>\\n\\t\\t\\tdocument.getElementById(\\'linkedinShareBtn\\').onclick = function () {\\n\\t\\t\\t\\twindow.open(\"https://www.linkedin.com/shareArticle?mini=true&url=\" + window.location.href, \"pop\", \"width=800, height=600, scrollbars=no\");\\n\\t\\t\\t};\\n\\t\\t</script>\\n\\t</li>\\n\\n\\t<li class=\"share-on-social reddit\">\\n\\t\\t<a class=\"share-button\" id=\"redditShareBtn\">\\n\\t\\t\\t<i class=\"fa fa-reddit\"></i>\\n\\t\\t</a>\\n\\t\\t<script>\\n\\t\\t\\tdocument.getElementById(\\'redditShareBtn\\').onclick = function () {\\n\\t\\t\\t\\twindow.open(\"http://www.reddit.com/submit?url=\" + window.location.href, \"pop\", \"width=800, height=600, scrollbars=no\");\\n\\t\\t\\t};\\n\\t\\t</script>\\n\\t</li>\\n\\n\\t<li class=\"share-on-social whatsapp\">\\n\\t\\t<a class=\"share-button\" id=\"whatsappShareBtn\">\\n\\t\\t\\t<i class=\"fa fa-whatsapp\"></i>\\n\\t\\t</a>\\n\\t\\t<script>\\n\\t\\t\\tdocument.getElementById(\\'whatsappShareBtn\\').onclick = function () {\\n\\t\\t\\t\\twindow.open(\"https://wa.me/?text=\" + encodeURIComponent(window.location.href), \"pop\", \"width=800, height=600, scrollbars=no\");\\n\\t\\t\\t};\\n\\t\\t</script>\\n\\t</li>\\n\\n\\t<li class=\"share-on-social telegram\">\\n\\t\\t<a class=\"share-button\" id=\"telegramShareBtn\">\\n\\t\\t\\t<i class=\"fa fa-send\"></i>\\n\\t\\t</a>\\n\\t\\t<script>\\n\\t\\t\\tdocument.getElementById(\\'telegramShareBtn\\').onclick = function () {\\n\\t\\t\\t\\twindow.open(\"https://t.me/share/url?url=\" + encodeURIComponent(window.location.href), \"pop\", \"width=800, height=600, scrollbars=no\");\\n\\t\\t\\t};\\n\\t\\t</script>\\n\\t</li>\\n</ul>\\n\\n\\t\\t\\t\\t\\t\\t<div class=\"image-container\">\\n\\t\\t\\t\\t\\t\\t\\t<img class=\"img-responsive\" src=\"https://blog-images.webscraper.io/images/JXmXV5Q1EpDJSk5yDuOMJ6jCHFewKEjRQReK9dgO.png\" itemprop=\"image\" alt=Web-Scraper-Collaboration-Blog>\\n\\t\\t\\t\\t\\t\\t</div>\\n\\n\\t\\t\\t\\t\\t\\t<div itemprop=\"text\">\\n\\t\\t\\t\\t\\t\\t\\t<p>If you are a journalist or a data enthusiast and you are in need of data, look no further. We, Web Scraper, offer a collaboration.</p><hr><p>We are starting a new blog mini-series in which we would look at the data retrieval technical aspect and brief analysis of the results. If any journalists or data enthusiasts lack a technical solution for data extraction, then our expertise could be a great solution for you.</p><p>The terms are quite straightforward - you approach us with your idea and possible data sources that you need to extract information from, and we will do the scraping for you; therefore, making data retrieval no obstacle for your project, research, article. In return, we take this opportunity of scraping the data and write our own blog about how the data was retrieved and include our own interpretation of the results of the data.&nbsp;</p><p>All you have to do is send in a short description of your idea and the possible data sources at info@webscraper.io, we will review it, and if the idea will seem possible we will respond with an idea-execution-plan for gathering the data for you.&nbsp;</p><p>Do not hesitate to contact us and let’s collab!</p>\\n\\t\\t\\t\\t\\t\\t</div>\\n\\n\\t\\t\\t\\t\\t\\t<div class=\"crta\"></div>\\n\\n\\t\\t\\t\\t\\t\\t<a class=\"linkforback\" href=\"/blog\"><i class=\"fa fa-angle-left\"></i> Go\\n\\t\\t\\t\\t\\t\\t\\tback to blog page</a>\\n\\t\\t\\t\\t\\t</div>\\n\\t\\t\\t\\t</div>\\n\\t\\t\\t\\t\\n\\t\\t\\t</div>\\n\\t\\t</div>\\n\\t</div>\\n\\t<div class=\"clearfix\"></div>\\n\\t<div class=\"push\"></div>\\n</div>\\n\\n<div class=\"container-fluid footer\" id=\"layout-footer\">\\n\\t<div class=\"container\">\\n\\t\\t<div class=\"row\">\\n\\t\\t\\t<div class=\"col-md-3\">\\n\\t\\t\\t\\t<ul>\\n\\t\\t\\t\\t\\t<li><p>Products</p></li>\\n\\t\\t\\t\\t\\t<li>\\n\\t\\t\\t\\t\\t\\t<a href=\"/\">Web Scraper browser extension</a>\\n\\t\\t\\t\\t\\t</li>\\n\\t\\t\\t\\t\\t<li>\\n\\t\\t\\t\\t\\t\\t<a href=\"/pricing\">Web Scraper Cloud</a>\\n\\t\\t\\t\\t\\t</li>\\n\\t\\t\\t\\t\\t\\t\\t\\t\\t\\t\\n\\t\\t\\t\\t\\t\\n\\t\\t\\t\\t</ul>\\n\\t\\t\\t</div>\\n\\t\\t\\t<div class=\"col-md-3\">\\n\\t\\t\\t\\t<ul>\\n\\t\\t\\t\\t\\t<li><p>Company</p></li>\\n\\t\\t\\t\\t\\t\\n\\t\\t\\t\\t\\t<li><a href=\"/contact\">Contact</a>\\n\\t\\t\\t\\t\\t</li>\\n\\t\\t\\t\\t\\t\\n\\t\\t\\t\\t\\t<li>\\n\\t\\t\\t\\t\\t\\t<a href=\"/privacy-policy\">Website Privacy Policy</a>\\n\\t\\t\\t\\t\\t</li>\\n\\t\\t\\t\\t\\t<li>\\n\\t\\t\\t\\t\\t\\t<a href=\"/extension-privacy-policy\">Browser Extension Privacy Policy</a>\\n\\t\\t\\t\\t\\t</li>\\n\\t\\t\\t\\t\\t<li>\\n\\t\\t\\t\\t\\t\\t<a href=\"http://webscraperio.us-east-1.elasticbeanstalk.com/downloads/Web_Scraper_Media_Kit.zip\">Media kit</a>\\n\\t\\t\\t\\t\\t</li>\\n\\t\\t\\t\\t\\t\\n\\t\\t\\t\\t\\t<li><a href=\"/jobs\">Jobs</a></li>\\n\\t\\t\\t\\t</ul>\\n\\t\\t\\t</div>\\n\\t\\t\\t<div class=\"col-md-3\">\\n\\t\\t\\t\\t<ul>\\n\\t\\t\\t\\t\\t<li><p>Resources</p></li>\\n\\t\\t\\t\\t\\t<li><a href=\"/blog\">Blog</a></li>\\n\\t\\t\\t\\t\\t<li>\\n\\t\\t\\t\\t\\t\\t<a href=\"/documentation\">Documentation</a>\\n\\t\\t\\t\\t\\t</li>\\n\\t\\t\\t\\t\\t<li>\\n\\t\\t\\t\\t\\t\\t<a href=\"/tutorials\">Video Tutorials</a>\\n\\t\\t\\t\\t\\t</li>\\n\\t\\t\\t\\t\\t<li>\\n\\t\\t\\t\\t\\t\\t<a href=\"/screenshots\">Screenshots</a>\\n\\t\\t\\t\\t\\t</li>\\n\\t\\t\\t\\t\\t<li>\\n\\t\\t\\t\\t\\t\\t<a href=\"/test-sites\">Test Sites</a>\\n\\t\\t\\t\\t\\t</li>\\n\\t\\t\\t\\t\\t<li>\\n\\t\\t\\t\\t\\t\\t<a target=\"_blank\" href=\"https://forum.webscraper.io/\" rel=\"noopener\">Forum</a>\\n\\t\\t\\t\\t\\t</li>\\n\\t\\t\\t\\t</ul>\\n\\t\\t\\t</div>\\n\\t\\t\\t<div class=\"col-md-3\">\\n\\t\\t\\t\\t<ul>\\n\\t\\t\\t\\t\\t<li><p>CONTACT US</p></li>\\n\\t\\t\\t\\t\\t<li>\\n\\t\\t\\t\\t\\t\\t<a href=\"mailto:info@webscraper.io\">info@webscraper.io</a>\\n\\t\\t\\t\\t\\t</li>\\n\\t\\t\\t\\t\\t\\n\\t\\t\\t\\t\\t<li>Rupniecibas iela 30,<br> Riga, Latvia, LV-1045</li>\\n\\t\\t\\t\\t</ul>\\n\\t\\t\\t\\t<ul class=\"smedia\">\\n\\t\\t\\t\\t\\t<li>\\n\\t\\t\\t\\t\\t\\t<a href=\"https://www.facebook.com/webscraperio/\" target=\"_blank\" rel=\"noopener\"><img src=\"/img/fbicon.png\" alt=\"Web Scraper on Facebook\"></a>\\n\\t\\t\\t\\t\\t</li>\\n\\t\\t\\t\\t\\t<li>\\n\\t\\t\\t\\t\\t\\t<a href=\"https://twitter.com/webscraperio\" target=\"_blank\" rel=\"noopener\"><img src=\"/img/twicon.png\" alt=\"Web Scraper on Twitter\"></a>\\n\\t\\t\\t\\t\\t</li>\\n\\t\\t\\t\\t\\t\\n\\n\\t\\t\\t\\t</ul>\\n\\t\\t\\t</div>\\n\\t\\t</div>\\n\\t\\t<div class=\"row\">\\n\\t\\t\\t<div class=\"col-md-12\">\\n\\t\\t\\t\\t<p class=\"copyright\">Copyright &copy 2021\\n\\t\\t\\t\\t\\t<a href=\"#\">Web Scraper</a> | All rights\\n\\t\\t\\t\\t\\treserved | Made by zoom59</p>\\n\\t\\t\\t</div>\\n\\t\\t</div>\\n\\t</div>\\n</div>\\n\\n\\n</body>\\n</html>\\n'"
            ]
          },
          "metadata": {},
          "execution_count": 14
        }
      ]
    },
    {
      "cell_type": "code",
      "metadata": {
        "id": "_2LZvz5FxZfA"
      },
      "source": [
        "### Parsing\n",
        "WP = (text, 'html.parser') "
      ],
      "id": "_2LZvz5FxZfA",
      "execution_count": null,
      "outputs": []
    },
    {
      "cell_type": "code",
      "metadata": {
        "colab": {
          "base_uri": "https://localhost:8080/",
          "height": 137
        },
        "id": "qlvXwB0Rg8oc",
        "outputId": "74b6c309-4703-42f8-8b3a-3b95f54fa7df"
      },
      "source": [
        "# Print text\n",
        "text"
      ],
      "id": "qlvXwB0Rg8oc",
      "execution_count": null,
      "outputs": [
        {
          "output_type": "execute_result",
          "data": {
            "application/vnd.google.colaboratory.intrinsic+json": {
              "type": "string"
            },
            "text/plain": [
              "'<!DOCTYPE html>\\n<html lang=\"en\">\\n<head>\\n\\n\\t\\t\\t<!-- Anti-flicker snippet (recommended)  -->\\n<style>.async-hide {\\n\\t\\topacity: 0 !important\\n\\t} </style>\\n<script>(function (a, s, y, n, c, h, i, d, e) {\\n\\t\\ts.className += \\' \\' + y;\\n\\t\\th.start = 1 * new Date;\\n\\t\\th.end = i = function () {\\n\\t\\t\\ts.className = s.className.replace(RegExp(\\' ?\\' + y), \\'\\')\\n\\t\\t};\\n\\t\\t(a[n] = a[n] || []).hide = h;\\n\\t\\tsetTimeout(function () {\\n\\t\\t\\ti();\\n\\t\\t\\th.end = null\\n\\t\\t}, c);\\n\\t\\th.timeout = c;\\n\\t})(window, document.documentElement, \\'async-hide\\', \\'dataLayer\\', 4000,\\n\\t\\t{\\'GTM-NVFPDWB\\': true});</script>\\n\\t\\n\\t<!-- Google Tag Manager -->\\n<script>(function (w, d, s, l, i) {\\n\\t\\tw[l] = w[l] || [];\\n\\t\\tw[l].push({\\n\\t\\t\\t\\'gtm.start\\':\\n\\t\\t\\t\\tnew Date().getTime(), event: \\'gtm.js\\'\\n\\t\\t});\\n\\t\\tvar f = d.getElementsByTagName(s)[0],\\n\\t\\t\\tj = d.createElement(s), dl = l != \\'dataLayer\\' ? \\'&l=\\' + l : \\'\\';\\n\\t\\tj.async = true;\\n\\t\\tj.src =\\n\\t\\t\\t\\'https://www.googletagmanager.com/gtm.js?id=\\' + i + dl;\\n\\t\\tf.parentNode.insertBefore(j, f);\\n\\t})(window, document, \\'script\\', \\'dataLayer\\', \\'GTM-NVFPDWB\\');</script>\\n<!-- End Google Tag Manager -->\\n\\t<title>In Need of Data?</title>\\n\\t<meta charset=\"utf-8\">\\n\\t<meta http-equiv=\"X-UA-Compatible\" content=\"IE=edge,chrome=1\">\\n\\n\\t<meta name=\"keywords\"\\n\\t      content=\"Data, collaboration\"/>\\n\\t<meta name=\"description\"\\n\\t      content=\"Do you have a great idea for a project, article, or research, but you are in need of data for the perfect execution? Look no further, we are offering an offer of collaboration.\"/>\\n\\t<link rel=\"icon\" sizes=\"128x128\" href=\"/favicon.png\">\\n\\n\\t<meta name=\"viewport\" content=\"width=device-width, initial-scale=1.0\">\\n\\t\\n\\t<link rel=\"stylesheet\" href=\"/css/app.css?id=e4de8db16b64e604046e\">\\n\\n\\t<link rel=\"canonical\" href=\"https://webscraper.io/blog/web-scraper-collaboration\">\\n\\t<link rel=\"apple-touch-icon\" href=\"/img/logo-icon.png\">\\n\\n\\t\\t<script defer src=\"/js/app.js?id=e64f07a3ce1d466cf04c\"></script>\\n\\n\\t\\t\\t\\t<meta property=\"og:title\" content=\"In Need of Data?\"/>\\n\\t\\n\\t\\t\\t<meta property=\"og:description\" content=\"Do you have a great idea for a project, article, or research, but you are in need of data for the perfect execution? Look no further, we are offering an offer of collaboration.\"/>\\n\\t\\n\\t\\t\\t<meta property=\"og:image\" content=\"https://blog-images.webscraper.io/images/JXmXV5Q1EpDJSk5yDuOMJ6jCHFewKEjRQReK9dgO.png\"/>\\n\\t\\n\\t<meta name=\"twitter:card\" content=\"summary\"/>\\n\\n\\t\\t\\t<meta name=\"twitter:title\" content=\"In Need of Data?\"/>\\n\\t\\n\\t\\t\\t<meta name=\"twitter:description\" content=\"Do you have a great idea for a project, article, or research, but you are in need of data for the perfect execution? Look no further, we are offering an offer of collaboration.\"/>\\n\\t\\n</head>\\n<body>\\n<!-- Google Tag Manager (noscript) -->\\n<noscript>\\n\\t<iframe src=\"https://www.googletagmanager.com/ns.html?id=GTM-NVFPDWB\"\\n\\t        height=\"0\" width=\"0\" style=\"display:none;visibility:hidden\"></iframe>\\n</noscript>\\n<!-- End Google Tag Manager (noscript) -->\\n<header role=\"banner\" class=\"navbar navbar-fixed-top navbar-static\">\\n\\t<div class=\"container\">\\n\\n\\t\\t<div class=\"navbar-header\">\\n\\n\\t\\t\\t<a data-toggle=\"collapse-side\" data-target=\".side-collapse\" data-target-2=\".side-collapse-container\">\\n\\t\\t\\t\\t<button type=\"button\" class=\"navbar-toggle pull-right collapsed\" data-toggle=\"collapse\"\\n\\t\\t\\t\\t        data-target=\"#navbar\" data-target-2=\".side-collapse-container\" data-target-3=\".side-collapse\"\\n\\t\\t\\t\\t        aria-expanded=\"false\" aria-controls=\"navbar\">\\n\\n\\t\\t\\t\\t\\t<span class=\"sr-only\">Toggle navigation</span>\\n\\t\\t\\t\\t\\t<span class=\"icon-bar top-bar\"></span>\\n\\t\\t\\t\\t\\t<span class=\"icon-bar middle-bar\"></span>\\n\\t\\t\\t\\t\\t<span class=\"icon-bar bottom-bar\"></span>\\n\\n\\t\\t\\t\\t</button>\\n\\t\\t\\t</a>\\n\\t\\t\\t<div class=\"navbar-brand\">\\n\\t\\t\\t\\t<a href=\"/\"><img src=\"/img/logo_white.svg\" alt=\"Web Scraper\"></a>\\n\\t\\t\\t</div>\\n\\t\\t</div>\\n\\n\\t\\t<div class=\"side-collapse in\">\\n\\t\\t\\t<nav id=\"navbar\" role=\"navigation\" class=\"navbar-collapse collapse\">\\n\\t\\t\\t\\t<ul class=\"nav navbar-nav navbar-right\">\\n\\t\\t\\t\\t\\t<li class=\"hidden\">\\n\\t\\t\\t\\t\\t\\t<a href=\"#page-top\"></a>\\n\\t\\t\\t\\t\\t</li>\\n\\t\\t\\t\\t\\t\\n\\t\\t\\t\\t\\t\\n\\t\\t\\t\\t\\t\\n\\t\\t\\t\\t\\t\\n\\t\\t\\t\\t\\t\\n\\t\\t\\t\\t\\t\\n\\t\\t\\t\\t\\t\\n\\t\\t\\t\\t\\t<li>\\n\\t\\t\\t\\t\\t\\t<a href=\"/\" class=\"menuitm\">\\n\\t\\t\\t\\t\\t\\t\\t<p>Web Scraper</p>\\n\\t\\t\\t\\t\\t\\t\\t<div class=\"crta\"></div>\\n\\t\\t\\t\\t\\t\\t</a>\\n\\t\\t\\t\\t\\t</li>\\n\\t\\t\\t\\t\\t<li>\\n\\t\\t\\t\\t\\t\\t<a href=\"/cloud-scraper\" class=\"menuitm\">\\n\\t\\t\\t\\t\\t\\t\\t<p>Cloud Scraper</p>\\n\\t\\t\\t\\t\\t\\t\\t<div class=\"crta\"></div>\\n\\t\\t\\t\\t\\t\\t</a>\\n\\t\\t\\t\\t\\t</li>\\n\\t\\t\\t\\t\\t<li>\\n\\t\\t\\t\\t\\t\\t<a href=\"/pricing\" class=\"menuitm\">\\n\\t\\t\\t\\t\\t\\t\\t<p>Pricing</p>\\n\\t\\t\\t\\t\\t\\t\\t<div class=\"crta\"></div>\\n\\t\\t\\t\\t\\t\\t</a>\\n\\t\\t\\t\\t\\t</li>\\n\\t\\t\\t\\t\\t\\n\\t\\t\\t\\t\\t\\n\\t\\t\\t\\t\\t\\n\\t\\t\\t\\t\\t\\n\\t\\t\\t\\t\\t\\n\\t\\t\\t\\t\\t\\n\\t\\t\\t\\t\\t\\n\\t\\t\\t\\t\\t\\n\\t\\t\\t\\t\\t\\n\\t\\t\\t\\t\\t\\n\\t\\t\\t\\t\\t<li class=\"dropdown\">\\n\\t\\t\\t\\t\\t\\t<a href=\"#section3\" class=\"menuitm dropdown-toggle\" data-toggle=\"dropdown\">\\n\\t\\t\\t\\t\\t\\t\\t<p>Learn</p>\\n\\t\\t\\t\\t\\t\\t\\t<div class=\"crta\"></div>\\n\\t\\t\\t\\t\\t\\t</a>\\n\\t\\t\\t\\t\\t\\t<ul class=\"dropdown-menu\">\\n\\t\\t\\t\\t\\t\\t\\t<li>\\n\\t\\t\\t\\t\\t\\t\\t\\t<a href=\"/documentation\">Documentation</a>\\n\\t\\t\\t\\t\\t\\t\\t</li>\\n\\t\\t\\t\\t\\t\\t\\t<li>\\n\\t\\t\\t\\t\\t\\t\\t\\t<a href=\"/tutorials\">Video Tutorials</a>\\n\\t\\t\\t\\t\\t\\t\\t</li>\\n\\t\\t\\t\\t\\t\\t\\t<li>\\n\\t\\t\\t\\t\\t\\t\\t\\t<a href=\"/how-to-videos\">How to</a>\\n\\t\\t\\t\\t\\t\\t\\t</li>\\n\\t\\t\\t\\t\\t\\t\\t<li>\\n\\t\\t\\t\\t\\t\\t\\t\\t<a href=\"/test-sites\">Test Sites</a>\\n\\t\\t\\t\\t\\t\\t\\t</li>\\n\\t\\t\\t\\t\\t\\t\\t<li>\\n\\t\\t\\t\\t\\t\\t\\t\\t<a href=\"https://forum.webscraper.io/\" target=\"_blank\" rel=\"noopener\">Forum</a>\\n\\t\\t\\t\\t\\t\\t\\t</li>\\n\\t\\t\\t\\t\\t\\t</ul>\\n\\t\\t\\t\\t\\t</li>\\n\\t\\t\\t\\t\\t<li>\\n\\t\\t\\t\\t\\t\\t<a target=\"_blank\" href=\"https://chrome.google.com/webstore/detail/web-scraper/jnhgnonknehpejjnehehllkliplmbmhn?hl=en\" class=\"btn-menu1 install-extension\" rel=\"noopener\">Install</a>\\n\\t\\t\\t\\t\\t</li>\\n\\t\\t\\t\\t\\t<li>\\n\\t\\t\\t\\t\\t\\t<a href=\"https://cloud.webscraper.io/\" class=\"btn-menu2\">Login</a>\\n\\t\\t\\t\\t\\t</li>\\n\\t\\t\\t\\t</ul>\\n\\t\\t\\t</nav>\\n\\t\\t</div>\\n\\t</div>\\n</header>\\n\\n<div class=\"wrapper\">\\n\\t\\t<div class=\"formenu-here container-fluid\">\\n\\n\\t</div>\\n\\n\\t\\t<div class=\"container-fluid blog-page\">\\n\\t\\t<div class=\"container blog-content-container\">\\n\\t\\t\\t<div class=\"row\">\\n\\t\\t\\t\\t<div class=\"col-md-12\">\\n\\t\\t\\t\\t\\t<div class=\"bloginside\" itemscope itemtype=\"https://schema.org/Blog\">\\n\\t\\t\\t\\t\\t\\t<h1 itemprop=\"headline\">In Need of Data?</h1>\\n\\t\\t\\t\\t\\t\\t<p class=\"date\" itemprop=\"datePublished\">June 05, 2020</p>\\n\\t\\t\\t\\t\\t\\t<p class=\"category\" itemprop=\"keywords\">Data, collaboration</p>\\n\\n\\t\\t\\t\\t\\t\\t<ul class=\"share-buttons\">\\n\\t<li class=\"share-on-social facebook\">\\n\\t\\t<a class=\"share-button\" id=\"fbShareBtn\">\\n\\t\\t\\t<i class=\"fa fa-facebook\"></i>\\n\\t\\t</a>\\n\\t\\t<script>\\n\\t\\t\\tdocument.getElementById(\\'fbShareBtn\\').onclick = function () {\\n\\t\\t\\t\\twindow.open(\"https://www.facebook.com/sharer/sharer.php?u=\" + window.location.href, \"pop\", \"width=800, height=600, scrollbars=no\");\\n\\t\\t\\t};\\n\\t\\t</script>\\n\\t</li>\\n\\n\\t<li class=\"share-on-social twitter\">\\n\\t\\t<a class=\"share-button\" id=\"twitterShareBtn\">\\n\\t\\t\\t<i class=\"fa fa-twitter\"></i>\\n\\t\\t</a>\\n\\t\\t<script>\\n\\t\\t\\tdocument.getElementById(\\'twitterShareBtn\\').onclick = function () {\\n\\t\\t\\t\\twindow.open(\"https://twitter.com/intent/tweet?url=\" + encodeURIComponent(window.location.href), \"pop\", \"width=800, height=600, scrollbars=no\");\\n\\t\\t\\t};\\n\\t\\t</script>\\n\\t</li>\\n\\n\\t<li class=\"share-on-social linkedin\">\\n\\t\\t<a class=\"share-button\" id=\"linkedinShareBtn\">\\n\\t\\t\\t<i class=\"fa fa-linkedin\"></i>\\n\\t\\t</a>\\n\\t\\t<script>\\n\\t\\t\\tdocument.getElementById(\\'linkedinShareBtn\\').onclick = function () {\\n\\t\\t\\t\\twindow.open(\"https://www.linkedin.com/shareArticle?mini=true&url=\" + window.location.href, \"pop\", \"width=800, height=600, scrollbars=no\");\\n\\t\\t\\t};\\n\\t\\t</script>\\n\\t</li>\\n\\n\\t<li class=\"share-on-social reddit\">\\n\\t\\t<a class=\"share-button\" id=\"redditShareBtn\">\\n\\t\\t\\t<i class=\"fa fa-reddit\"></i>\\n\\t\\t</a>\\n\\t\\t<script>\\n\\t\\t\\tdocument.getElementById(\\'redditShareBtn\\').onclick = function () {\\n\\t\\t\\t\\twindow.open(\"http://www.reddit.com/submit?url=\" + window.location.href, \"pop\", \"width=800, height=600, scrollbars=no\");\\n\\t\\t\\t};\\n\\t\\t</script>\\n\\t</li>\\n\\n\\t<li class=\"share-on-social whatsapp\">\\n\\t\\t<a class=\"share-button\" id=\"whatsappShareBtn\">\\n\\t\\t\\t<i class=\"fa fa-whatsapp\"></i>\\n\\t\\t</a>\\n\\t\\t<script>\\n\\t\\t\\tdocument.getElementById(\\'whatsappShareBtn\\').onclick = function () {\\n\\t\\t\\t\\twindow.open(\"https://wa.me/?text=\" + encodeURIComponent(window.location.href), \"pop\", \"width=800, height=600, scrollbars=no\");\\n\\t\\t\\t};\\n\\t\\t</script>\\n\\t</li>\\n\\n\\t<li class=\"share-on-social telegram\">\\n\\t\\t<a class=\"share-button\" id=\"telegramShareBtn\">\\n\\t\\t\\t<i class=\"fa fa-send\"></i>\\n\\t\\t</a>\\n\\t\\t<script>\\n\\t\\t\\tdocument.getElementById(\\'telegramShareBtn\\').onclick = function () {\\n\\t\\t\\t\\twindow.open(\"https://t.me/share/url?url=\" + encodeURIComponent(window.location.href), \"pop\", \"width=800, height=600, scrollbars=no\");\\n\\t\\t\\t};\\n\\t\\t</script>\\n\\t</li>\\n</ul>\\n\\n\\t\\t\\t\\t\\t\\t<div class=\"image-container\">\\n\\t\\t\\t\\t\\t\\t\\t<img class=\"img-responsive\" src=\"https://blog-images.webscraper.io/images/JXmXV5Q1EpDJSk5yDuOMJ6jCHFewKEjRQReK9dgO.png\" itemprop=\"image\" alt=Web-Scraper-Collaboration-Blog>\\n\\t\\t\\t\\t\\t\\t</div>\\n\\n\\t\\t\\t\\t\\t\\t<div itemprop=\"text\">\\n\\t\\t\\t\\t\\t\\t\\t<p>If you are a journalist or a data enthusiast and you are in need of data, look no further. We, Web Scraper, offer a collaboration.</p><hr><p>We are starting a new blog mini-series in which we would look at the data retrieval technical aspect and brief analysis of the results. If any journalists or data enthusiasts lack a technical solution for data extraction, then our expertise could be a great solution for you.</p><p>The terms are quite straightforward - you approach us with your idea and possible data sources that you need to extract information from, and we will do the scraping for you; therefore, making data retrieval no obstacle for your project, research, article. In return, we take this opportunity of scraping the data and write our own blog about how the data was retrieved and include our own interpretation of the results of the data.&nbsp;</p><p>All you have to do is send in a short description of your idea and the possible data sources at info@webscraper.io, we will review it, and if the idea will seem possible we will respond with an idea-execution-plan for gathering the data for you.&nbsp;</p><p>Do not hesitate to contact us and let’s collab!</p>\\n\\t\\t\\t\\t\\t\\t</div>\\n\\n\\t\\t\\t\\t\\t\\t<div class=\"crta\"></div>\\n\\n\\t\\t\\t\\t\\t\\t<a class=\"linkforback\" href=\"/blog\"><i class=\"fa fa-angle-left\"></i> Go\\n\\t\\t\\t\\t\\t\\t\\tback to blog page</a>\\n\\t\\t\\t\\t\\t</div>\\n\\t\\t\\t\\t</div>\\n\\t\\t\\t\\t\\n\\t\\t\\t</div>\\n\\t\\t</div>\\n\\t</div>\\n\\t<div class=\"clearfix\"></div>\\n\\t<div class=\"push\"></div>\\n</div>\\n\\n<div class=\"container-fluid footer\" id=\"layout-footer\">\\n\\t<div class=\"container\">\\n\\t\\t<div class=\"row\">\\n\\t\\t\\t<div class=\"col-md-3\">\\n\\t\\t\\t\\t<ul>\\n\\t\\t\\t\\t\\t<li><p>Products</p></li>\\n\\t\\t\\t\\t\\t<li>\\n\\t\\t\\t\\t\\t\\t<a href=\"/\">Web Scraper browser extension</a>\\n\\t\\t\\t\\t\\t</li>\\n\\t\\t\\t\\t\\t<li>\\n\\t\\t\\t\\t\\t\\t<a href=\"/pricing\">Web Scraper Cloud</a>\\n\\t\\t\\t\\t\\t</li>\\n\\t\\t\\t\\t\\t\\t\\t\\t\\t\\t\\n\\t\\t\\t\\t\\t\\n\\t\\t\\t\\t</ul>\\n\\t\\t\\t</div>\\n\\t\\t\\t<div class=\"col-md-3\">\\n\\t\\t\\t\\t<ul>\\n\\t\\t\\t\\t\\t<li><p>Company</p></li>\\n\\t\\t\\t\\t\\t\\n\\t\\t\\t\\t\\t<li><a href=\"/contact\">Contact</a>\\n\\t\\t\\t\\t\\t</li>\\n\\t\\t\\t\\t\\t\\n\\t\\t\\t\\t\\t<li>\\n\\t\\t\\t\\t\\t\\t<a href=\"/privacy-policy\">Website Privacy Policy</a>\\n\\t\\t\\t\\t\\t</li>\\n\\t\\t\\t\\t\\t<li>\\n\\t\\t\\t\\t\\t\\t<a href=\"/extension-privacy-policy\">Browser Extension Privacy Policy</a>\\n\\t\\t\\t\\t\\t</li>\\n\\t\\t\\t\\t\\t<li>\\n\\t\\t\\t\\t\\t\\t<a href=\"http://webscraperio.us-east-1.elasticbeanstalk.com/downloads/Web_Scraper_Media_Kit.zip\">Media kit</a>\\n\\t\\t\\t\\t\\t</li>\\n\\t\\t\\t\\t\\t\\n\\t\\t\\t\\t\\t<li><a href=\"/jobs\">Jobs</a></li>\\n\\t\\t\\t\\t</ul>\\n\\t\\t\\t</div>\\n\\t\\t\\t<div class=\"col-md-3\">\\n\\t\\t\\t\\t<ul>\\n\\t\\t\\t\\t\\t<li><p>Resources</p></li>\\n\\t\\t\\t\\t\\t<li><a href=\"/blog\">Blog</a></li>\\n\\t\\t\\t\\t\\t<li>\\n\\t\\t\\t\\t\\t\\t<a href=\"/documentation\">Documentation</a>\\n\\t\\t\\t\\t\\t</li>\\n\\t\\t\\t\\t\\t<li>\\n\\t\\t\\t\\t\\t\\t<a href=\"/tutorials\">Video Tutorials</a>\\n\\t\\t\\t\\t\\t</li>\\n\\t\\t\\t\\t\\t<li>\\n\\t\\t\\t\\t\\t\\t<a href=\"/screenshots\">Screenshots</a>\\n\\t\\t\\t\\t\\t</li>\\n\\t\\t\\t\\t\\t<li>\\n\\t\\t\\t\\t\\t\\t<a href=\"/test-sites\">Test Sites</a>\\n\\t\\t\\t\\t\\t</li>\\n\\t\\t\\t\\t\\t<li>\\n\\t\\t\\t\\t\\t\\t<a target=\"_blank\" href=\"https://forum.webscraper.io/\" rel=\"noopener\">Forum</a>\\n\\t\\t\\t\\t\\t</li>\\n\\t\\t\\t\\t</ul>\\n\\t\\t\\t</div>\\n\\t\\t\\t<div class=\"col-md-3\">\\n\\t\\t\\t\\t<ul>\\n\\t\\t\\t\\t\\t<li><p>CONTACT US</p></li>\\n\\t\\t\\t\\t\\t<li>\\n\\t\\t\\t\\t\\t\\t<a href=\"mailto:info@webscraper.io\">info@webscraper.io</a>\\n\\t\\t\\t\\t\\t</li>\\n\\t\\t\\t\\t\\t\\n\\t\\t\\t\\t\\t<li>Rupniecibas iela 30,<br> Riga, Latvia, LV-1045</li>\\n\\t\\t\\t\\t</ul>\\n\\t\\t\\t\\t<ul class=\"smedia\">\\n\\t\\t\\t\\t\\t<li>\\n\\t\\t\\t\\t\\t\\t<a href=\"https://www.facebook.com/webscraperio/\" target=\"_blank\" rel=\"noopener\"><img src=\"/img/fbicon.png\" alt=\"Web Scraper on Facebook\"></a>\\n\\t\\t\\t\\t\\t</li>\\n\\t\\t\\t\\t\\t<li>\\n\\t\\t\\t\\t\\t\\t<a href=\"https://twitter.com/webscraperio\" target=\"_blank\" rel=\"noopener\"><img src=\"/img/twicon.png\" alt=\"Web Scraper on Twitter\"></a>\\n\\t\\t\\t\\t\\t</li>\\n\\t\\t\\t\\t\\t\\n\\n\\t\\t\\t\\t</ul>\\n\\t\\t\\t</div>\\n\\t\\t</div>\\n\\t\\t<div class=\"row\">\\n\\t\\t\\t<div class=\"col-md-12\">\\n\\t\\t\\t\\t<p class=\"copyright\">Copyright &copy 2021\\n\\t\\t\\t\\t\\t<a href=\"#\">Web Scraper</a> | All rights\\n\\t\\t\\t\\t\\treserved | Made by zoom59</p>\\n\\t\\t\\t</div>\\n\\t\\t</div>\\n\\t</div>\\n</div>\\n\\n\\n</body>\\n</html>\\n'"
            ]
          },
          "metadata": {},
          "execution_count": 16
        }
      ]
    },
    {
      "cell_type": "code",
      "metadata": {
        "colab": {
          "base_uri": "https://localhost:8080/",
          "height": 137
        },
        "id": "k13br1PEgpiK",
        "outputId": "06248cfa-e27c-449a-aff6-1826aee7a7aa"
      },
      "source": [
        "text = text.lower()\n",
        "text"
      ],
      "id": "k13br1PEgpiK",
      "execution_count": null,
      "outputs": [
        {
          "output_type": "execute_result",
          "data": {
            "application/vnd.google.colaboratory.intrinsic+json": {
              "type": "string"
            },
            "text/plain": [
              "'<!doctype html>\\n<html lang=\"en\">\\n<head>\\n\\n\\t\\t\\t<!-- anti-flicker snippet (recommended)  -->\\n<style>.async-hide {\\n\\t\\topacity: 0 !important\\n\\t} </style>\\n<script>(function (a, s, y, n, c, h, i, d, e) {\\n\\t\\ts.classname += \\' \\' + y;\\n\\t\\th.start = 1 * new date;\\n\\t\\th.end = i = function () {\\n\\t\\t\\ts.classname = s.classname.replace(regexp(\\' ?\\' + y), \\'\\')\\n\\t\\t};\\n\\t\\t(a[n] = a[n] || []).hide = h;\\n\\t\\tsettimeout(function () {\\n\\t\\t\\ti();\\n\\t\\t\\th.end = null\\n\\t\\t}, c);\\n\\t\\th.timeout = c;\\n\\t})(window, document.documentelement, \\'async-hide\\', \\'datalayer\\', 4000,\\n\\t\\t{\\'gtm-nvfpdwb\\': true});</script>\\n\\t\\n\\t<!-- google tag manager -->\\n<script>(function (w, d, s, l, i) {\\n\\t\\tw[l] = w[l] || [];\\n\\t\\tw[l].push({\\n\\t\\t\\t\\'gtm.start\\':\\n\\t\\t\\t\\tnew date().gettime(), event: \\'gtm.js\\'\\n\\t\\t});\\n\\t\\tvar f = d.getelementsbytagname(s)[0],\\n\\t\\t\\tj = d.createelement(s), dl = l != \\'datalayer\\' ? \\'&l=\\' + l : \\'\\';\\n\\t\\tj.async = true;\\n\\t\\tj.src =\\n\\t\\t\\t\\'https://www.googletagmanager.com/gtm.js?id=\\' + i + dl;\\n\\t\\tf.parentnode.insertbefore(j, f);\\n\\t})(window, document, \\'script\\', \\'datalayer\\', \\'gtm-nvfpdwb\\');</script>\\n<!-- end google tag manager -->\\n\\t<title>in need of data?</title>\\n\\t<meta charset=\"utf-8\">\\n\\t<meta http-equiv=\"x-ua-compatible\" content=\"ie=edge,chrome=1\">\\n\\n\\t<meta name=\"keywords\"\\n\\t      content=\"data, collaboration\"/>\\n\\t<meta name=\"description\"\\n\\t      content=\"do you have a great idea for a project, article, or research, but you are in need of data for the perfect execution? look no further, we are offering an offer of collaboration.\"/>\\n\\t<link rel=\"icon\" sizes=\"128x128\" href=\"/favicon.png\">\\n\\n\\t<meta name=\"viewport\" content=\"width=device-width, initial-scale=1.0\">\\n\\t\\n\\t<link rel=\"stylesheet\" href=\"/css/app.css?id=e4de8db16b64e604046e\">\\n\\n\\t<link rel=\"canonical\" href=\"https://webscraper.io/blog/web-scraper-collaboration\">\\n\\t<link rel=\"apple-touch-icon\" href=\"/img/logo-icon.png\">\\n\\n\\t\\t<script defer src=\"/js/app.js?id=e64f07a3ce1d466cf04c\"></script>\\n\\n\\t\\t\\t\\t<meta property=\"og:title\" content=\"in need of data?\"/>\\n\\t\\n\\t\\t\\t<meta property=\"og:description\" content=\"do you have a great idea for a project, article, or research, but you are in need of data for the perfect execution? look no further, we are offering an offer of collaboration.\"/>\\n\\t\\n\\t\\t\\t<meta property=\"og:image\" content=\"https://blog-images.webscraper.io/images/jxmxv5q1epdjsk5yduomj6jchfewkejrqrek9dgo.png\"/>\\n\\t\\n\\t<meta name=\"twitter:card\" content=\"summary\"/>\\n\\n\\t\\t\\t<meta name=\"twitter:title\" content=\"in need of data?\"/>\\n\\t\\n\\t\\t\\t<meta name=\"twitter:description\" content=\"do you have a great idea for a project, article, or research, but you are in need of data for the perfect execution? look no further, we are offering an offer of collaboration.\"/>\\n\\t\\n</head>\\n<body>\\n<!-- google tag manager (noscript) -->\\n<noscript>\\n\\t<iframe src=\"https://www.googletagmanager.com/ns.html?id=gtm-nvfpdwb\"\\n\\t        height=\"0\" width=\"0\" style=\"display:none;visibility:hidden\"></iframe>\\n</noscript>\\n<!-- end google tag manager (noscript) -->\\n<header role=\"banner\" class=\"navbar navbar-fixed-top navbar-static\">\\n\\t<div class=\"container\">\\n\\n\\t\\t<div class=\"navbar-header\">\\n\\n\\t\\t\\t<a data-toggle=\"collapse-side\" data-target=\".side-collapse\" data-target-2=\".side-collapse-container\">\\n\\t\\t\\t\\t<button type=\"button\" class=\"navbar-toggle pull-right collapsed\" data-toggle=\"collapse\"\\n\\t\\t\\t\\t        data-target=\"#navbar\" data-target-2=\".side-collapse-container\" data-target-3=\".side-collapse\"\\n\\t\\t\\t\\t        aria-expanded=\"false\" aria-controls=\"navbar\">\\n\\n\\t\\t\\t\\t\\t<span class=\"sr-only\">toggle navigation</span>\\n\\t\\t\\t\\t\\t<span class=\"icon-bar top-bar\"></span>\\n\\t\\t\\t\\t\\t<span class=\"icon-bar middle-bar\"></span>\\n\\t\\t\\t\\t\\t<span class=\"icon-bar bottom-bar\"></span>\\n\\n\\t\\t\\t\\t</button>\\n\\t\\t\\t</a>\\n\\t\\t\\t<div class=\"navbar-brand\">\\n\\t\\t\\t\\t<a href=\"/\"><img src=\"/img/logo_white.svg\" alt=\"web scraper\"></a>\\n\\t\\t\\t</div>\\n\\t\\t</div>\\n\\n\\t\\t<div class=\"side-collapse in\">\\n\\t\\t\\t<nav id=\"navbar\" role=\"navigation\" class=\"navbar-collapse collapse\">\\n\\t\\t\\t\\t<ul class=\"nav navbar-nav navbar-right\">\\n\\t\\t\\t\\t\\t<li class=\"hidden\">\\n\\t\\t\\t\\t\\t\\t<a href=\"#page-top\"></a>\\n\\t\\t\\t\\t\\t</li>\\n\\t\\t\\t\\t\\t\\n\\t\\t\\t\\t\\t\\n\\t\\t\\t\\t\\t\\n\\t\\t\\t\\t\\t\\n\\t\\t\\t\\t\\t\\n\\t\\t\\t\\t\\t\\n\\t\\t\\t\\t\\t\\n\\t\\t\\t\\t\\t<li>\\n\\t\\t\\t\\t\\t\\t<a href=\"/\" class=\"menuitm\">\\n\\t\\t\\t\\t\\t\\t\\t<p>web scraper</p>\\n\\t\\t\\t\\t\\t\\t\\t<div class=\"crta\"></div>\\n\\t\\t\\t\\t\\t\\t</a>\\n\\t\\t\\t\\t\\t</li>\\n\\t\\t\\t\\t\\t<li>\\n\\t\\t\\t\\t\\t\\t<a href=\"/cloud-scraper\" class=\"menuitm\">\\n\\t\\t\\t\\t\\t\\t\\t<p>cloud scraper</p>\\n\\t\\t\\t\\t\\t\\t\\t<div class=\"crta\"></div>\\n\\t\\t\\t\\t\\t\\t</a>\\n\\t\\t\\t\\t\\t</li>\\n\\t\\t\\t\\t\\t<li>\\n\\t\\t\\t\\t\\t\\t<a href=\"/pricing\" class=\"menuitm\">\\n\\t\\t\\t\\t\\t\\t\\t<p>pricing</p>\\n\\t\\t\\t\\t\\t\\t\\t<div class=\"crta\"></div>\\n\\t\\t\\t\\t\\t\\t</a>\\n\\t\\t\\t\\t\\t</li>\\n\\t\\t\\t\\t\\t\\n\\t\\t\\t\\t\\t\\n\\t\\t\\t\\t\\t\\n\\t\\t\\t\\t\\t\\n\\t\\t\\t\\t\\t\\n\\t\\t\\t\\t\\t\\n\\t\\t\\t\\t\\t\\n\\t\\t\\t\\t\\t\\n\\t\\t\\t\\t\\t\\n\\t\\t\\t\\t\\t\\n\\t\\t\\t\\t\\t<li class=\"dropdown\">\\n\\t\\t\\t\\t\\t\\t<a href=\"#section3\" class=\"menuitm dropdown-toggle\" data-toggle=\"dropdown\">\\n\\t\\t\\t\\t\\t\\t\\t<p>learn</p>\\n\\t\\t\\t\\t\\t\\t\\t<div class=\"crta\"></div>\\n\\t\\t\\t\\t\\t\\t</a>\\n\\t\\t\\t\\t\\t\\t<ul class=\"dropdown-menu\">\\n\\t\\t\\t\\t\\t\\t\\t<li>\\n\\t\\t\\t\\t\\t\\t\\t\\t<a href=\"/documentation\">documentation</a>\\n\\t\\t\\t\\t\\t\\t\\t</li>\\n\\t\\t\\t\\t\\t\\t\\t<li>\\n\\t\\t\\t\\t\\t\\t\\t\\t<a href=\"/tutorials\">video tutorials</a>\\n\\t\\t\\t\\t\\t\\t\\t</li>\\n\\t\\t\\t\\t\\t\\t\\t<li>\\n\\t\\t\\t\\t\\t\\t\\t\\t<a href=\"/how-to-videos\">how to</a>\\n\\t\\t\\t\\t\\t\\t\\t</li>\\n\\t\\t\\t\\t\\t\\t\\t<li>\\n\\t\\t\\t\\t\\t\\t\\t\\t<a href=\"/test-sites\">test sites</a>\\n\\t\\t\\t\\t\\t\\t\\t</li>\\n\\t\\t\\t\\t\\t\\t\\t<li>\\n\\t\\t\\t\\t\\t\\t\\t\\t<a href=\"https://forum.webscraper.io/\" target=\"_blank\" rel=\"noopener\">forum</a>\\n\\t\\t\\t\\t\\t\\t\\t</li>\\n\\t\\t\\t\\t\\t\\t</ul>\\n\\t\\t\\t\\t\\t</li>\\n\\t\\t\\t\\t\\t<li>\\n\\t\\t\\t\\t\\t\\t<a target=\"_blank\" href=\"https://chrome.google.com/webstore/detail/web-scraper/jnhgnonknehpejjnehehllkliplmbmhn?hl=en\" class=\"btn-menu1 install-extension\" rel=\"noopener\">install</a>\\n\\t\\t\\t\\t\\t</li>\\n\\t\\t\\t\\t\\t<li>\\n\\t\\t\\t\\t\\t\\t<a href=\"https://cloud.webscraper.io/\" class=\"btn-menu2\">login</a>\\n\\t\\t\\t\\t\\t</li>\\n\\t\\t\\t\\t</ul>\\n\\t\\t\\t</nav>\\n\\t\\t</div>\\n\\t</div>\\n</header>\\n\\n<div class=\"wrapper\">\\n\\t\\t<div class=\"formenu-here container-fluid\">\\n\\n\\t</div>\\n\\n\\t\\t<div class=\"container-fluid blog-page\">\\n\\t\\t<div class=\"container blog-content-container\">\\n\\t\\t\\t<div class=\"row\">\\n\\t\\t\\t\\t<div class=\"col-md-12\">\\n\\t\\t\\t\\t\\t<div class=\"bloginside\" itemscope itemtype=\"https://schema.org/blog\">\\n\\t\\t\\t\\t\\t\\t<h1 itemprop=\"headline\">in need of data?</h1>\\n\\t\\t\\t\\t\\t\\t<p class=\"date\" itemprop=\"datepublished\">june 05, 2020</p>\\n\\t\\t\\t\\t\\t\\t<p class=\"category\" itemprop=\"keywords\">data, collaboration</p>\\n\\n\\t\\t\\t\\t\\t\\t<ul class=\"share-buttons\">\\n\\t<li class=\"share-on-social facebook\">\\n\\t\\t<a class=\"share-button\" id=\"fbsharebtn\">\\n\\t\\t\\t<i class=\"fa fa-facebook\"></i>\\n\\t\\t</a>\\n\\t\\t<script>\\n\\t\\t\\tdocument.getelementbyid(\\'fbsharebtn\\').onclick = function () {\\n\\t\\t\\t\\twindow.open(\"https://www.facebook.com/sharer/sharer.php?u=\" + window.location.href, \"pop\", \"width=800, height=600, scrollbars=no\");\\n\\t\\t\\t};\\n\\t\\t</script>\\n\\t</li>\\n\\n\\t<li class=\"share-on-social twitter\">\\n\\t\\t<a class=\"share-button\" id=\"twittersharebtn\">\\n\\t\\t\\t<i class=\"fa fa-twitter\"></i>\\n\\t\\t</a>\\n\\t\\t<script>\\n\\t\\t\\tdocument.getelementbyid(\\'twittersharebtn\\').onclick = function () {\\n\\t\\t\\t\\twindow.open(\"https://twitter.com/intent/tweet?url=\" + encodeuricomponent(window.location.href), \"pop\", \"width=800, height=600, scrollbars=no\");\\n\\t\\t\\t};\\n\\t\\t</script>\\n\\t</li>\\n\\n\\t<li class=\"share-on-social linkedin\">\\n\\t\\t<a class=\"share-button\" id=\"linkedinsharebtn\">\\n\\t\\t\\t<i class=\"fa fa-linkedin\"></i>\\n\\t\\t</a>\\n\\t\\t<script>\\n\\t\\t\\tdocument.getelementbyid(\\'linkedinsharebtn\\').onclick = function () {\\n\\t\\t\\t\\twindow.open(\"https://www.linkedin.com/sharearticle?mini=true&url=\" + window.location.href, \"pop\", \"width=800, height=600, scrollbars=no\");\\n\\t\\t\\t};\\n\\t\\t</script>\\n\\t</li>\\n\\n\\t<li class=\"share-on-social reddit\">\\n\\t\\t<a class=\"share-button\" id=\"redditsharebtn\">\\n\\t\\t\\t<i class=\"fa fa-reddit\"></i>\\n\\t\\t</a>\\n\\t\\t<script>\\n\\t\\t\\tdocument.getelementbyid(\\'redditsharebtn\\').onclick = function () {\\n\\t\\t\\t\\twindow.open(\"http://www.reddit.com/submit?url=\" + window.location.href, \"pop\", \"width=800, height=600, scrollbars=no\");\\n\\t\\t\\t};\\n\\t\\t</script>\\n\\t</li>\\n\\n\\t<li class=\"share-on-social whatsapp\">\\n\\t\\t<a class=\"share-button\" id=\"whatsappsharebtn\">\\n\\t\\t\\t<i class=\"fa fa-whatsapp\"></i>\\n\\t\\t</a>\\n\\t\\t<script>\\n\\t\\t\\tdocument.getelementbyid(\\'whatsappsharebtn\\').onclick = function () {\\n\\t\\t\\t\\twindow.open(\"https://wa.me/?text=\" + encodeuricomponent(window.location.href), \"pop\", \"width=800, height=600, scrollbars=no\");\\n\\t\\t\\t};\\n\\t\\t</script>\\n\\t</li>\\n\\n\\t<li class=\"share-on-social telegram\">\\n\\t\\t<a class=\"share-button\" id=\"telegramsharebtn\">\\n\\t\\t\\t<i class=\"fa fa-send\"></i>\\n\\t\\t</a>\\n\\t\\t<script>\\n\\t\\t\\tdocument.getelementbyid(\\'telegramsharebtn\\').onclick = function () {\\n\\t\\t\\t\\twindow.open(\"https://t.me/share/url?url=\" + encodeuricomponent(window.location.href), \"pop\", \"width=800, height=600, scrollbars=no\");\\n\\t\\t\\t};\\n\\t\\t</script>\\n\\t</li>\\n</ul>\\n\\n\\t\\t\\t\\t\\t\\t<div class=\"image-container\">\\n\\t\\t\\t\\t\\t\\t\\t<img class=\"img-responsive\" src=\"https://blog-images.webscraper.io/images/jxmxv5q1epdjsk5yduomj6jchfewkejrqrek9dgo.png\" itemprop=\"image\" alt=web-scraper-collaboration-blog>\\n\\t\\t\\t\\t\\t\\t</div>\\n\\n\\t\\t\\t\\t\\t\\t<div itemprop=\"text\">\\n\\t\\t\\t\\t\\t\\t\\t<p>if you are a journalist or a data enthusiast and you are in need of data, look no further. we, web scraper, offer a collaboration.</p><hr><p>we are starting a new blog mini-series in which we would look at the data retrieval technical aspect and brief analysis of the results. if any journalists or data enthusiasts lack a technical solution for data extraction, then our expertise could be a great solution for you.</p><p>the terms are quite straightforward - you approach us with your idea and possible data sources that you need to extract information from, and we will do the scraping for you; therefore, making data retrieval no obstacle for your project, research, article. in return, we take this opportunity of scraping the data and write our own blog about how the data was retrieved and include our own interpretation of the results of the data.&nbsp;</p><p>all you have to do is send in a short description of your idea and the possible data sources at info@webscraper.io, we will review it, and if the idea will seem possible we will respond with an idea-execution-plan for gathering the data for you.&nbsp;</p><p>do not hesitate to contact us and let’s collab!</p>\\n\\t\\t\\t\\t\\t\\t</div>\\n\\n\\t\\t\\t\\t\\t\\t<div class=\"crta\"></div>\\n\\n\\t\\t\\t\\t\\t\\t<a class=\"linkforback\" href=\"/blog\"><i class=\"fa fa-angle-left\"></i> go\\n\\t\\t\\t\\t\\t\\t\\tback to blog page</a>\\n\\t\\t\\t\\t\\t</div>\\n\\t\\t\\t\\t</div>\\n\\t\\t\\t\\t\\n\\t\\t\\t</div>\\n\\t\\t</div>\\n\\t</div>\\n\\t<div class=\"clearfix\"></div>\\n\\t<div class=\"push\"></div>\\n</div>\\n\\n<div class=\"container-fluid footer\" id=\"layout-footer\">\\n\\t<div class=\"container\">\\n\\t\\t<div class=\"row\">\\n\\t\\t\\t<div class=\"col-md-3\">\\n\\t\\t\\t\\t<ul>\\n\\t\\t\\t\\t\\t<li><p>products</p></li>\\n\\t\\t\\t\\t\\t<li>\\n\\t\\t\\t\\t\\t\\t<a href=\"/\">web scraper browser extension</a>\\n\\t\\t\\t\\t\\t</li>\\n\\t\\t\\t\\t\\t<li>\\n\\t\\t\\t\\t\\t\\t<a href=\"/pricing\">web scraper cloud</a>\\n\\t\\t\\t\\t\\t</li>\\n\\t\\t\\t\\t\\t\\t\\t\\t\\t\\t\\n\\t\\t\\t\\t\\t\\n\\t\\t\\t\\t</ul>\\n\\t\\t\\t</div>\\n\\t\\t\\t<div class=\"col-md-3\">\\n\\t\\t\\t\\t<ul>\\n\\t\\t\\t\\t\\t<li><p>company</p></li>\\n\\t\\t\\t\\t\\t\\n\\t\\t\\t\\t\\t<li><a href=\"/contact\">contact</a>\\n\\t\\t\\t\\t\\t</li>\\n\\t\\t\\t\\t\\t\\n\\t\\t\\t\\t\\t<li>\\n\\t\\t\\t\\t\\t\\t<a href=\"/privacy-policy\">website privacy policy</a>\\n\\t\\t\\t\\t\\t</li>\\n\\t\\t\\t\\t\\t<li>\\n\\t\\t\\t\\t\\t\\t<a href=\"/extension-privacy-policy\">browser extension privacy policy</a>\\n\\t\\t\\t\\t\\t</li>\\n\\t\\t\\t\\t\\t<li>\\n\\t\\t\\t\\t\\t\\t<a href=\"http://webscraperio.us-east-1.elasticbeanstalk.com/downloads/web_scraper_media_kit.zip\">media kit</a>\\n\\t\\t\\t\\t\\t</li>\\n\\t\\t\\t\\t\\t\\n\\t\\t\\t\\t\\t<li><a href=\"/jobs\">jobs</a></li>\\n\\t\\t\\t\\t</ul>\\n\\t\\t\\t</div>\\n\\t\\t\\t<div class=\"col-md-3\">\\n\\t\\t\\t\\t<ul>\\n\\t\\t\\t\\t\\t<li><p>resources</p></li>\\n\\t\\t\\t\\t\\t<li><a href=\"/blog\">blog</a></li>\\n\\t\\t\\t\\t\\t<li>\\n\\t\\t\\t\\t\\t\\t<a href=\"/documentation\">documentation</a>\\n\\t\\t\\t\\t\\t</li>\\n\\t\\t\\t\\t\\t<li>\\n\\t\\t\\t\\t\\t\\t<a href=\"/tutorials\">video tutorials</a>\\n\\t\\t\\t\\t\\t</li>\\n\\t\\t\\t\\t\\t<li>\\n\\t\\t\\t\\t\\t\\t<a href=\"/screenshots\">screenshots</a>\\n\\t\\t\\t\\t\\t</li>\\n\\t\\t\\t\\t\\t<li>\\n\\t\\t\\t\\t\\t\\t<a href=\"/test-sites\">test sites</a>\\n\\t\\t\\t\\t\\t</li>\\n\\t\\t\\t\\t\\t<li>\\n\\t\\t\\t\\t\\t\\t<a target=\"_blank\" href=\"https://forum.webscraper.io/\" rel=\"noopener\">forum</a>\\n\\t\\t\\t\\t\\t</li>\\n\\t\\t\\t\\t</ul>\\n\\t\\t\\t</div>\\n\\t\\t\\t<div class=\"col-md-3\">\\n\\t\\t\\t\\t<ul>\\n\\t\\t\\t\\t\\t<li><p>contact us</p></li>\\n\\t\\t\\t\\t\\t<li>\\n\\t\\t\\t\\t\\t\\t<a href=\"mailto:info@webscraper.io\">info@webscraper.io</a>\\n\\t\\t\\t\\t\\t</li>\\n\\t\\t\\t\\t\\t\\n\\t\\t\\t\\t\\t<li>rupniecibas iela 30,<br> riga, latvia, lv-1045</li>\\n\\t\\t\\t\\t</ul>\\n\\t\\t\\t\\t<ul class=\"smedia\">\\n\\t\\t\\t\\t\\t<li>\\n\\t\\t\\t\\t\\t\\t<a href=\"https://www.facebook.com/webscraperio/\" target=\"_blank\" rel=\"noopener\"><img src=\"/img/fbicon.png\" alt=\"web scraper on facebook\"></a>\\n\\t\\t\\t\\t\\t</li>\\n\\t\\t\\t\\t\\t<li>\\n\\t\\t\\t\\t\\t\\t<a href=\"https://twitter.com/webscraperio\" target=\"_blank\" rel=\"noopener\"><img src=\"/img/twicon.png\" alt=\"web scraper on twitter\"></a>\\n\\t\\t\\t\\t\\t</li>\\n\\t\\t\\t\\t\\t\\n\\n\\t\\t\\t\\t</ul>\\n\\t\\t\\t</div>\\n\\t\\t</div>\\n\\t\\t<div class=\"row\">\\n\\t\\t\\t<div class=\"col-md-12\">\\n\\t\\t\\t\\t<p class=\"copyright\">copyright &copy 2021\\n\\t\\t\\t\\t\\t<a href=\"#\">web scraper</a> | all rights\\n\\t\\t\\t\\t\\treserved | made by zoom59</p>\\n\\t\\t\\t</div>\\n\\t\\t</div>\\n\\t</div>\\n</div>\\n\\n\\n</body>\\n</html>\\n'"
            ]
          },
          "metadata": {},
          "execution_count": 17
        }
      ]
    },
    {
      "cell_type": "code",
      "metadata": {
        "colab": {
          "base_uri": "https://localhost:8080/",
          "height": 137
        },
        "id": "NPud9rhdqNTM",
        "outputId": "79fd34aa-26cc-4f43-9696-191432a639ce"
      },
      "source": [
        "text = re.sub(r\"[-()\\\"#/@;:<>{}`+=~|.!?,]\", \"\", text)\n",
        "text\n",
        "\n",
        "# Untuk karakter new line (\\n) akan diproses pada proses tokenisasi"
      ],
      "id": "NPud9rhdqNTM",
      "execution_count": null,
      "outputs": [
        {
          "output_type": "execute_result",
          "data": {
            "application/vnd.google.colaboratory.intrinsic+json": {
              "type": "string"
            },
            "text/plain": [
              "\"doctype html\\nhtml langen\\nhead\\n\\n\\t\\t\\t antiflicker snippet recommended  \\nstyleasynchide \\n\\t\\topacity 0 important\\n\\t style\\nscriptfunction a s y n c h i d e \\n\\t\\tsclassname  ' '  y\\n\\t\\thstart  1 * new date\\n\\t\\thend  i  function  \\n\\t\\t\\tsclassname  sclassnamereplaceregexp' '  y ''\\n\\t\\t\\n\\t\\ta[n]  a[n]  []hide  h\\n\\t\\tsettimeoutfunction  \\n\\t\\t\\ti\\n\\t\\t\\thend  null\\n\\t\\t c\\n\\t\\thtimeout  c\\n\\twindow documentdocumentelement 'asynchide' 'datalayer' 4000\\n\\t\\t'gtmnvfpdwb' truescript\\n\\t\\n\\t google tag manager \\nscriptfunction w d s l i \\n\\t\\tw[l]  w[l]  []\\n\\t\\tw[l]push\\n\\t\\t\\t'gtmstart'\\n\\t\\t\\t\\tnew dategettime event 'gtmjs'\\n\\t\\t\\n\\t\\tvar f  dgetelementsbytagnames[0]\\n\\t\\t\\tj  dcreateelements dl  l  'datalayer'  '&l'  l  ''\\n\\t\\tjasync  true\\n\\t\\tjsrc \\n\\t\\t\\t'httpswwwgoogletagmanagercomgtmjsid'  i  dl\\n\\t\\tfparentnodeinsertbeforej f\\n\\twindow document 'script' 'datalayer' 'gtmnvfpdwb'script\\n end google tag manager \\n\\ttitlein need of datatitle\\n\\tmeta charsetutf8\\n\\tmeta httpequivxuacompatible contentieedgechrome1\\n\\n\\tmeta namekeywords\\n\\t      contentdata collaboration\\n\\tmeta namedescription\\n\\t      contentdo you have a great idea for a project article or research but you are in need of data for the perfect execution look no further we are offering an offer of collaboration\\n\\tlink relicon sizes128x128 hreffaviconpng\\n\\n\\tmeta nameviewport contentwidthdevicewidth initialscale10\\n\\t\\n\\tlink relstylesheet hrefcssappcsside4de8db16b64e604046e\\n\\n\\tlink relcanonical hrefhttpswebscraperioblogwebscrapercollaboration\\n\\tlink relappletouchicon hrefimglogoiconpng\\n\\n\\t\\tscript defer srcjsappjside64f07a3ce1d466cf04cscript\\n\\n\\t\\t\\t\\tmeta propertyogtitle contentin need of data\\n\\t\\n\\t\\t\\tmeta propertyogdescription contentdo you have a great idea for a project article or research but you are in need of data for the perfect execution look no further we are offering an offer of collaboration\\n\\t\\n\\t\\t\\tmeta propertyogimage contenthttpsblogimageswebscraperioimagesjxmxv5q1epdjsk5yduomj6jchfewkejrqrek9dgopng\\n\\t\\n\\tmeta nametwittercard contentsummary\\n\\n\\t\\t\\tmeta nametwittertitle contentin need of data\\n\\t\\n\\t\\t\\tmeta nametwitterdescription contentdo you have a great idea for a project article or research but you are in need of data for the perfect execution look no further we are offering an offer of collaboration\\n\\t\\nhead\\nbody\\n google tag manager noscript \\nnoscript\\n\\tiframe srchttpswwwgoogletagmanagercomnshtmlidgtmnvfpdwb\\n\\t        height0 width0 styledisplaynonevisibilityhiddeniframe\\nnoscript\\n end google tag manager noscript \\nheader rolebanner classnavbar navbarfixedtop navbarstatic\\n\\tdiv classcontainer\\n\\n\\t\\tdiv classnavbarheader\\n\\n\\t\\t\\ta datatogglecollapseside datatargetsidecollapse datatarget2sidecollapsecontainer\\n\\t\\t\\t\\tbutton typebutton classnavbartoggle pullright collapsed datatogglecollapse\\n\\t\\t\\t\\t        datatargetnavbar datatarget2sidecollapsecontainer datatarget3sidecollapse\\n\\t\\t\\t\\t        ariaexpandedfalse ariacontrolsnavbar\\n\\n\\t\\t\\t\\t\\tspan classsronlytoggle navigationspan\\n\\t\\t\\t\\t\\tspan classiconbar topbarspan\\n\\t\\t\\t\\t\\tspan classiconbar middlebarspan\\n\\t\\t\\t\\t\\tspan classiconbar bottombarspan\\n\\n\\t\\t\\t\\tbutton\\n\\t\\t\\ta\\n\\t\\t\\tdiv classnavbarbrand\\n\\t\\t\\t\\ta hrefimg srcimglogo_whitesvg altweb scrapera\\n\\t\\t\\tdiv\\n\\t\\tdiv\\n\\n\\t\\tdiv classsidecollapse in\\n\\t\\t\\tnav idnavbar rolenavigation classnavbarcollapse collapse\\n\\t\\t\\t\\tul classnav navbarnav navbarright\\n\\t\\t\\t\\t\\tli classhidden\\n\\t\\t\\t\\t\\t\\ta hrefpagetopa\\n\\t\\t\\t\\t\\tli\\n\\t\\t\\t\\t\\t\\n\\t\\t\\t\\t\\t\\n\\t\\t\\t\\t\\t\\n\\t\\t\\t\\t\\t\\n\\t\\t\\t\\t\\t\\n\\t\\t\\t\\t\\t\\n\\t\\t\\t\\t\\t\\n\\t\\t\\t\\t\\tli\\n\\t\\t\\t\\t\\t\\ta href classmenuitm\\n\\t\\t\\t\\t\\t\\t\\tpweb scraperp\\n\\t\\t\\t\\t\\t\\t\\tdiv classcrtadiv\\n\\t\\t\\t\\t\\t\\ta\\n\\t\\t\\t\\t\\tli\\n\\t\\t\\t\\t\\tli\\n\\t\\t\\t\\t\\t\\ta hrefcloudscraper classmenuitm\\n\\t\\t\\t\\t\\t\\t\\tpcloud scraperp\\n\\t\\t\\t\\t\\t\\t\\tdiv classcrtadiv\\n\\t\\t\\t\\t\\t\\ta\\n\\t\\t\\t\\t\\tli\\n\\t\\t\\t\\t\\tli\\n\\t\\t\\t\\t\\t\\ta hrefpricing classmenuitm\\n\\t\\t\\t\\t\\t\\t\\tppricingp\\n\\t\\t\\t\\t\\t\\t\\tdiv classcrtadiv\\n\\t\\t\\t\\t\\t\\ta\\n\\t\\t\\t\\t\\tli\\n\\t\\t\\t\\t\\t\\n\\t\\t\\t\\t\\t\\n\\t\\t\\t\\t\\t\\n\\t\\t\\t\\t\\t\\n\\t\\t\\t\\t\\t\\n\\t\\t\\t\\t\\t\\n\\t\\t\\t\\t\\t\\n\\t\\t\\t\\t\\t\\n\\t\\t\\t\\t\\t\\n\\t\\t\\t\\t\\t\\n\\t\\t\\t\\t\\tli classdropdown\\n\\t\\t\\t\\t\\t\\ta hrefsection3 classmenuitm dropdowntoggle datatoggledropdown\\n\\t\\t\\t\\t\\t\\t\\tplearnp\\n\\t\\t\\t\\t\\t\\t\\tdiv classcrtadiv\\n\\t\\t\\t\\t\\t\\ta\\n\\t\\t\\t\\t\\t\\tul classdropdownmenu\\n\\t\\t\\t\\t\\t\\t\\tli\\n\\t\\t\\t\\t\\t\\t\\t\\ta hrefdocumentationdocumentationa\\n\\t\\t\\t\\t\\t\\t\\tli\\n\\t\\t\\t\\t\\t\\t\\tli\\n\\t\\t\\t\\t\\t\\t\\t\\ta hreftutorialsvideo tutorialsa\\n\\t\\t\\t\\t\\t\\t\\tli\\n\\t\\t\\t\\t\\t\\t\\tli\\n\\t\\t\\t\\t\\t\\t\\t\\ta hrefhowtovideoshow toa\\n\\t\\t\\t\\t\\t\\t\\tli\\n\\t\\t\\t\\t\\t\\t\\tli\\n\\t\\t\\t\\t\\t\\t\\t\\ta hreftestsitestest sitesa\\n\\t\\t\\t\\t\\t\\t\\tli\\n\\t\\t\\t\\t\\t\\t\\tli\\n\\t\\t\\t\\t\\t\\t\\t\\ta hrefhttpsforumwebscraperio target_blank relnoopenerforuma\\n\\t\\t\\t\\t\\t\\t\\tli\\n\\t\\t\\t\\t\\t\\tul\\n\\t\\t\\t\\t\\tli\\n\\t\\t\\t\\t\\tli\\n\\t\\t\\t\\t\\t\\ta target_blank hrefhttpschromegooglecomwebstoredetailwebscraperjnhgnonknehpejjnehehllkliplmbmhnhlen classbtnmenu1 installextension relnoopenerinstalla\\n\\t\\t\\t\\t\\tli\\n\\t\\t\\t\\t\\tli\\n\\t\\t\\t\\t\\t\\ta hrefhttpscloudwebscraperio classbtnmenu2logina\\n\\t\\t\\t\\t\\tli\\n\\t\\t\\t\\tul\\n\\t\\t\\tnav\\n\\t\\tdiv\\n\\tdiv\\nheader\\n\\ndiv classwrapper\\n\\t\\tdiv classformenuhere containerfluid\\n\\n\\tdiv\\n\\n\\t\\tdiv classcontainerfluid blogpage\\n\\t\\tdiv classcontainer blogcontentcontainer\\n\\t\\t\\tdiv classrow\\n\\t\\t\\t\\tdiv classcolmd12\\n\\t\\t\\t\\t\\tdiv classbloginside itemscope itemtypehttpsschemaorgblog\\n\\t\\t\\t\\t\\t\\th1 itempropheadlinein need of datah1\\n\\t\\t\\t\\t\\t\\tp classdate itempropdatepublishedjune 05 2020p\\n\\t\\t\\t\\t\\t\\tp classcategory itempropkeywordsdata collaborationp\\n\\n\\t\\t\\t\\t\\t\\tul classsharebuttons\\n\\tli classshareonsocial facebook\\n\\t\\ta classsharebutton idfbsharebtn\\n\\t\\t\\ti classfa fafacebooki\\n\\t\\ta\\n\\t\\tscript\\n\\t\\t\\tdocumentgetelementbyid'fbsharebtn'onclick  function  \\n\\t\\t\\t\\twindowopenhttpswwwfacebookcomsharersharerphpu  windowlocationhref pop width800 height600 scrollbarsno\\n\\t\\t\\t\\n\\t\\tscript\\n\\tli\\n\\n\\tli classshareonsocial twitter\\n\\t\\ta classsharebutton idtwittersharebtn\\n\\t\\t\\ti classfa fatwitteri\\n\\t\\ta\\n\\t\\tscript\\n\\t\\t\\tdocumentgetelementbyid'twittersharebtn'onclick  function  \\n\\t\\t\\t\\twindowopenhttpstwittercomintenttweeturl  encodeuricomponentwindowlocationhref pop width800 height600 scrollbarsno\\n\\t\\t\\t\\n\\t\\tscript\\n\\tli\\n\\n\\tli classshareonsocial linkedin\\n\\t\\ta classsharebutton idlinkedinsharebtn\\n\\t\\t\\ti classfa falinkedini\\n\\t\\ta\\n\\t\\tscript\\n\\t\\t\\tdocumentgetelementbyid'linkedinsharebtn'onclick  function  \\n\\t\\t\\t\\twindowopenhttpswwwlinkedincomsharearticleminitrue&url  windowlocationhref pop width800 height600 scrollbarsno\\n\\t\\t\\t\\n\\t\\tscript\\n\\tli\\n\\n\\tli classshareonsocial reddit\\n\\t\\ta classsharebutton idredditsharebtn\\n\\t\\t\\ti classfa faredditi\\n\\t\\ta\\n\\t\\tscript\\n\\t\\t\\tdocumentgetelementbyid'redditsharebtn'onclick  function  \\n\\t\\t\\t\\twindowopenhttpwwwredditcomsubmiturl  windowlocationhref pop width800 height600 scrollbarsno\\n\\t\\t\\t\\n\\t\\tscript\\n\\tli\\n\\n\\tli classshareonsocial whatsapp\\n\\t\\ta classsharebutton idwhatsappsharebtn\\n\\t\\t\\ti classfa fawhatsappi\\n\\t\\ta\\n\\t\\tscript\\n\\t\\t\\tdocumentgetelementbyid'whatsappsharebtn'onclick  function  \\n\\t\\t\\t\\twindowopenhttpswametext  encodeuricomponentwindowlocationhref pop width800 height600 scrollbarsno\\n\\t\\t\\t\\n\\t\\tscript\\n\\tli\\n\\n\\tli classshareonsocial telegram\\n\\t\\ta classsharebutton idtelegramsharebtn\\n\\t\\t\\ti classfa fasendi\\n\\t\\ta\\n\\t\\tscript\\n\\t\\t\\tdocumentgetelementbyid'telegramsharebtn'onclick  function  \\n\\t\\t\\t\\twindowopenhttpstmeshareurlurl  encodeuricomponentwindowlocationhref pop width800 height600 scrollbarsno\\n\\t\\t\\t\\n\\t\\tscript\\n\\tli\\nul\\n\\n\\t\\t\\t\\t\\t\\tdiv classimagecontainer\\n\\t\\t\\t\\t\\t\\t\\timg classimgresponsive srchttpsblogimageswebscraperioimagesjxmxv5q1epdjsk5yduomj6jchfewkejrqrek9dgopng itempropimage altwebscrapercollaborationblog\\n\\t\\t\\t\\t\\t\\tdiv\\n\\n\\t\\t\\t\\t\\t\\tdiv itemproptext\\n\\t\\t\\t\\t\\t\\t\\tpif you are a journalist or a data enthusiast and you are in need of data look no further we web scraper offer a collaborationphrpwe are starting a new blog miniseries in which we would look at the data retrieval technical aspect and brief analysis of the results if any journalists or data enthusiasts lack a technical solution for data extraction then our expertise could be a great solution for youppthe terms are quite straightforward  you approach us with your idea and possible data sources that you need to extract information from and we will do the scraping for you therefore making data retrieval no obstacle for your project research article in return we take this opportunity of scraping the data and write our own blog about how the data was retrieved and include our own interpretation of the results of the data&nbspppall you have to do is send in a short description of your idea and the possible data sources at infowebscraperio we will review it and if the idea will seem possible we will respond with an ideaexecutionplan for gathering the data for you&nbspppdo not hesitate to contact us and let’s collabp\\n\\t\\t\\t\\t\\t\\tdiv\\n\\n\\t\\t\\t\\t\\t\\tdiv classcrtadiv\\n\\n\\t\\t\\t\\t\\t\\ta classlinkforback hrefblogi classfa faanglelefti go\\n\\t\\t\\t\\t\\t\\t\\tback to blog pagea\\n\\t\\t\\t\\t\\tdiv\\n\\t\\t\\t\\tdiv\\n\\t\\t\\t\\t\\n\\t\\t\\tdiv\\n\\t\\tdiv\\n\\tdiv\\n\\tdiv classclearfixdiv\\n\\tdiv classpushdiv\\ndiv\\n\\ndiv classcontainerfluid footer idlayoutfooter\\n\\tdiv classcontainer\\n\\t\\tdiv classrow\\n\\t\\t\\tdiv classcolmd3\\n\\t\\t\\t\\tul\\n\\t\\t\\t\\t\\tlipproductspli\\n\\t\\t\\t\\t\\tli\\n\\t\\t\\t\\t\\t\\ta hrefweb scraper browser extensiona\\n\\t\\t\\t\\t\\tli\\n\\t\\t\\t\\t\\tli\\n\\t\\t\\t\\t\\t\\ta hrefpricingweb scraper clouda\\n\\t\\t\\t\\t\\tli\\n\\t\\t\\t\\t\\t\\t\\t\\t\\t\\t\\n\\t\\t\\t\\t\\t\\n\\t\\t\\t\\tul\\n\\t\\t\\tdiv\\n\\t\\t\\tdiv classcolmd3\\n\\t\\t\\t\\tul\\n\\t\\t\\t\\t\\tlipcompanypli\\n\\t\\t\\t\\t\\t\\n\\t\\t\\t\\t\\tlia hrefcontactcontacta\\n\\t\\t\\t\\t\\tli\\n\\t\\t\\t\\t\\t\\n\\t\\t\\t\\t\\tli\\n\\t\\t\\t\\t\\t\\ta hrefprivacypolicywebsite privacy policya\\n\\t\\t\\t\\t\\tli\\n\\t\\t\\t\\t\\tli\\n\\t\\t\\t\\t\\t\\ta hrefextensionprivacypolicybrowser extension privacy policya\\n\\t\\t\\t\\t\\tli\\n\\t\\t\\t\\t\\tli\\n\\t\\t\\t\\t\\t\\ta hrefhttpwebscraperiouseast1elasticbeanstalkcomdownloadsweb_scraper_media_kitzipmedia kita\\n\\t\\t\\t\\t\\tli\\n\\t\\t\\t\\t\\t\\n\\t\\t\\t\\t\\tlia hrefjobsjobsali\\n\\t\\t\\t\\tul\\n\\t\\t\\tdiv\\n\\t\\t\\tdiv classcolmd3\\n\\t\\t\\t\\tul\\n\\t\\t\\t\\t\\tlipresourcespli\\n\\t\\t\\t\\t\\tlia hrefblogblogali\\n\\t\\t\\t\\t\\tli\\n\\t\\t\\t\\t\\t\\ta hrefdocumentationdocumentationa\\n\\t\\t\\t\\t\\tli\\n\\t\\t\\t\\t\\tli\\n\\t\\t\\t\\t\\t\\ta hreftutorialsvideo tutorialsa\\n\\t\\t\\t\\t\\tli\\n\\t\\t\\t\\t\\tli\\n\\t\\t\\t\\t\\t\\ta hrefscreenshotsscreenshotsa\\n\\t\\t\\t\\t\\tli\\n\\t\\t\\t\\t\\tli\\n\\t\\t\\t\\t\\t\\ta hreftestsitestest sitesa\\n\\t\\t\\t\\t\\tli\\n\\t\\t\\t\\t\\tli\\n\\t\\t\\t\\t\\t\\ta target_blank hrefhttpsforumwebscraperio relnoopenerforuma\\n\\t\\t\\t\\t\\tli\\n\\t\\t\\t\\tul\\n\\t\\t\\tdiv\\n\\t\\t\\tdiv classcolmd3\\n\\t\\t\\t\\tul\\n\\t\\t\\t\\t\\tlipcontact uspli\\n\\t\\t\\t\\t\\tli\\n\\t\\t\\t\\t\\t\\ta hrefmailtoinfowebscraperioinfowebscraperioa\\n\\t\\t\\t\\t\\tli\\n\\t\\t\\t\\t\\t\\n\\t\\t\\t\\t\\tlirupniecibas iela 30br riga latvia lv1045li\\n\\t\\t\\t\\tul\\n\\t\\t\\t\\tul classsmedia\\n\\t\\t\\t\\t\\tli\\n\\t\\t\\t\\t\\t\\ta hrefhttpswwwfacebookcomwebscraperio target_blank relnoopenerimg srcimgfbiconpng altweb scraper on facebooka\\n\\t\\t\\t\\t\\tli\\n\\t\\t\\t\\t\\tli\\n\\t\\t\\t\\t\\t\\ta hrefhttpstwittercomwebscraperio target_blank relnoopenerimg srcimgtwiconpng altweb scraper on twittera\\n\\t\\t\\t\\t\\tli\\n\\t\\t\\t\\t\\t\\n\\n\\t\\t\\t\\tul\\n\\t\\t\\tdiv\\n\\t\\tdiv\\n\\t\\tdiv classrow\\n\\t\\t\\tdiv classcolmd12\\n\\t\\t\\t\\tp classcopyrightcopyright &copy 2021\\n\\t\\t\\t\\t\\ta hrefweb scrapera  all rights\\n\\t\\t\\t\\t\\treserved  made by zoom59p\\n\\t\\t\\tdiv\\n\\t\\tdiv\\n\\tdiv\\ndiv\\n\\n\\nbody\\nhtml\\n\""
            ]
          },
          "metadata": {},
          "execution_count": 18
        }
      ]
    },
    {
      "cell_type": "code",
      "metadata": {
        "colab": {
          "base_uri": "https://localhost:8080/"
        },
        "id": "hLJ3gTu1igKO",
        "outputId": "244564b8-d0ef-426e-e419-71804c6d1b87"
      },
      "source": [
        "# word_tokenize: memisahkan karakter khusus pada kata (,./@#$%&* dll) dan memisahkan kata pada text\n",
        "\n",
        "tokens = word_tokenize(text)\n",
        "print(tokens)"
      ],
      "id": "hLJ3gTu1igKO",
      "execution_count": null,
      "outputs": [
        {
          "output_type": "stream",
          "name": "stdout",
          "text": [
            "['doctype', 'html', 'html', 'langen', 'head', 'antiflicker', 'snippet', 'recommended', 'styleasynchide', 'opacity', '0', 'important', 'style', 'scriptfunction', 'a', 's', 'y', 'n', 'c', 'h', 'i', 'd', 'e', 'sclassname', \"'\", \"'\", 'y', 'hstart', '1', '*', 'new', 'date', 'hend', 'i', 'function', 'sclassname', 'sclassnamereplaceregexp', \"'\", \"'\", 'y', \"''\", 'a', '[', 'n', ']', 'a', '[', 'n', ']', '[', ']', 'hide', 'h', 'settimeoutfunction', 'i', 'hend', 'null', 'c', 'htimeout', 'c', 'window', 'documentdocumentelement', \"'asynchide\", \"'\", \"'datalayer\", \"'\", '4000', \"'gtmnvfpdwb\", \"'\", 'truescript', 'google', 'tag', 'manager', 'scriptfunction', 'w', 'd', 's', 'l', 'i', 'w', '[', 'l', ']', 'w', '[', 'l', ']', '[', ']', 'w', '[', 'l', ']', 'push', \"'gtmstart'\", 'new', 'dategettime', 'event', \"'gtmjs'\", 'var', 'f', 'dgetelementsbytagnames', '[', '0', ']', 'j', 'dcreateelements', 'dl', 'l', \"'datalayer\", \"'\", \"'\", '&', 'l', \"'\", 'l', \"''\", 'jasync', 'true', 'jsrc', \"'httpswwwgoogletagmanagercomgtmjsid\", \"'\", 'i', 'dl', 'fparentnodeinsertbeforej', 'f', 'window', 'document', \"'script\", \"'\", \"'datalayer\", \"'\", \"'gtmnvfpdwb'script\", 'end', 'google', 'tag', 'manager', 'titlein', 'need', 'of', 'datatitle', 'meta', 'charsetutf8', 'meta', 'httpequivxuacompatible', 'contentieedgechrome1', 'meta', 'namekeywords', 'contentdata', 'collaboration', 'meta', 'namedescription', 'contentdo', 'you', 'have', 'a', 'great', 'idea', 'for', 'a', 'project', 'article', 'or', 'research', 'but', 'you', 'are', 'in', 'need', 'of', 'data', 'for', 'the', 'perfect', 'execution', 'look', 'no', 'further', 'we', 'are', 'offering', 'an', 'offer', 'of', 'collaboration', 'link', 'relicon', 'sizes128x128', 'hreffaviconpng', 'meta', 'nameviewport', 'contentwidthdevicewidth', 'initialscale10', 'link', 'relstylesheet', 'hrefcssappcsside4de8db16b64e604046e', 'link', 'relcanonical', 'hrefhttpswebscraperioblogwebscrapercollaboration', 'link', 'relappletouchicon', 'hrefimglogoiconpng', 'script', 'defer', 'srcjsappjside64f07a3ce1d466cf04cscript', 'meta', 'propertyogtitle', 'contentin', 'need', 'of', 'data', 'meta', 'propertyogdescription', 'contentdo', 'you', 'have', 'a', 'great', 'idea', 'for', 'a', 'project', 'article', 'or', 'research', 'but', 'you', 'are', 'in', 'need', 'of', 'data', 'for', 'the', 'perfect', 'execution', 'look', 'no', 'further', 'we', 'are', 'offering', 'an', 'offer', 'of', 'collaboration', 'meta', 'propertyogimage', 'contenthttpsblogimageswebscraperioimagesjxmxv5q1epdjsk5yduomj6jchfewkejrqrek9dgopng', 'meta', 'nametwittercard', 'contentsummary', 'meta', 'nametwittertitle', 'contentin', 'need', 'of', 'data', 'meta', 'nametwitterdescription', 'contentdo', 'you', 'have', 'a', 'great', 'idea', 'for', 'a', 'project', 'article', 'or', 'research', 'but', 'you', 'are', 'in', 'need', 'of', 'data', 'for', 'the', 'perfect', 'execution', 'look', 'no', 'further', 'we', 'are', 'offering', 'an', 'offer', 'of', 'collaboration', 'head', 'body', 'google', 'tag', 'manager', 'noscript', 'noscript', 'iframe', 'srchttpswwwgoogletagmanagercomnshtmlidgtmnvfpdwb', 'height0', 'width0', 'styledisplaynonevisibilityhiddeniframe', 'noscript', 'end', 'google', 'tag', 'manager', 'noscript', 'header', 'rolebanner', 'classnavbar', 'navbarfixedtop', 'navbarstatic', 'div', 'classcontainer', 'div', 'classnavbarheader', 'a', 'datatogglecollapseside', 'datatargetsidecollapse', 'datatarget2sidecollapsecontainer', 'button', 'typebutton', 'classnavbartoggle', 'pullright', 'collapsed', 'datatogglecollapse', 'datatargetnavbar', 'datatarget2sidecollapsecontainer', 'datatarget3sidecollapse', 'ariaexpandedfalse', 'ariacontrolsnavbar', 'span', 'classsronlytoggle', 'navigationspan', 'span', 'classiconbar', 'topbarspan', 'span', 'classiconbar', 'middlebarspan', 'span', 'classiconbar', 'bottombarspan', 'button', 'a', 'div', 'classnavbarbrand', 'a', 'hrefimg', 'srcimglogo_whitesvg', 'altweb', 'scrapera', 'div', 'div', 'div', 'classsidecollapse', 'in', 'nav', 'idnavbar', 'rolenavigation', 'classnavbarcollapse', 'collapse', 'ul', 'classnav', 'navbarnav', 'navbarright', 'li', 'classhidden', 'a', 'hrefpagetopa', 'li', 'li', 'a', 'href', 'classmenuitm', 'pweb', 'scraperp', 'div', 'classcrtadiv', 'a', 'li', 'li', 'a', 'hrefcloudscraper', 'classmenuitm', 'pcloud', 'scraperp', 'div', 'classcrtadiv', 'a', 'li', 'li', 'a', 'hrefpricing', 'classmenuitm', 'ppricingp', 'div', 'classcrtadiv', 'a', 'li', 'li', 'classdropdown', 'a', 'hrefsection3', 'classmenuitm', 'dropdowntoggle', 'datatoggledropdown', 'plearnp', 'div', 'classcrtadiv', 'a', 'ul', 'classdropdownmenu', 'li', 'a', 'hrefdocumentationdocumentationa', 'li', 'li', 'a', 'hreftutorialsvideo', 'tutorialsa', 'li', 'li', 'a', 'hrefhowtovideoshow', 'toa', 'li', 'li', 'a', 'hreftestsitestest', 'sitesa', 'li', 'li', 'a', 'hrefhttpsforumwebscraperio', 'target_blank', 'relnoopenerforuma', 'li', 'ul', 'li', 'li', 'a', 'target_blank', 'hrefhttpschromegooglecomwebstoredetailwebscraperjnhgnonknehpejjnehehllkliplmbmhnhlen', 'classbtnmenu1', 'installextension', 'relnoopenerinstalla', 'li', 'li', 'a', 'hrefhttpscloudwebscraperio', 'classbtnmenu2logina', 'li', 'ul', 'nav', 'div', 'div', 'header', 'div', 'classwrapper', 'div', 'classformenuhere', 'containerfluid', 'div', 'div', 'classcontainerfluid', 'blogpage', 'div', 'classcontainer', 'blogcontentcontainer', 'div', 'classrow', 'div', 'classcolmd12', 'div', 'classbloginside', 'itemscope', 'itemtypehttpsschemaorgblog', 'h1', 'itempropheadlinein', 'need', 'of', 'datah1', 'p', 'classdate', 'itempropdatepublishedjune', '05', '2020p', 'p', 'classcategory', 'itempropkeywordsdata', 'collaborationp', 'ul', 'classsharebuttons', 'li', 'classshareonsocial', 'facebook', 'a', 'classsharebutton', 'idfbsharebtn', 'i', 'classfa', 'fafacebooki', 'a', 'script', \"documentgetelementbyid'fbsharebtn'onclick\", 'function', 'windowopenhttpswwwfacebookcomsharersharerphpu', 'windowlocationhref', 'pop', 'width800', 'height600', 'scrollbarsno', 'script', 'li', 'li', 'classshareonsocial', 'twitter', 'a', 'classsharebutton', 'idtwittersharebtn', 'i', 'classfa', 'fatwitteri', 'a', 'script', \"documentgetelementbyid'twittersharebtn'onclick\", 'function', 'windowopenhttpstwittercomintenttweeturl', 'encodeuricomponentwindowlocationhref', 'pop', 'width800', 'height600', 'scrollbarsno', 'script', 'li', 'li', 'classshareonsocial', 'linkedin', 'a', 'classsharebutton', 'idlinkedinsharebtn', 'i', 'classfa', 'falinkedini', 'a', 'script', \"documentgetelementbyid'linkedinsharebtn'onclick\", 'function', 'windowopenhttpswwwlinkedincomsharearticleminitrue', '&', 'url', 'windowlocationhref', 'pop', 'width800', 'height600', 'scrollbarsno', 'script', 'li', 'li', 'classshareonsocial', 'reddit', 'a', 'classsharebutton', 'idredditsharebtn', 'i', 'classfa', 'faredditi', 'a', 'script', \"documentgetelementbyid'redditsharebtn'onclick\", 'function', 'windowopenhttpwwwredditcomsubmiturl', 'windowlocationhref', 'pop', 'width800', 'height600', 'scrollbarsno', 'script', 'li', 'li', 'classshareonsocial', 'whatsapp', 'a', 'classsharebutton', 'idwhatsappsharebtn', 'i', 'classfa', 'fawhatsappi', 'a', 'script', \"documentgetelementbyid'whatsappsharebtn'onclick\", 'function', 'windowopenhttpswametext', 'encodeuricomponentwindowlocationhref', 'pop', 'width800', 'height600', 'scrollbarsno', 'script', 'li', 'li', 'classshareonsocial', 'telegram', 'a', 'classsharebutton', 'idtelegramsharebtn', 'i', 'classfa', 'fasendi', 'a', 'script', \"documentgetelementbyid'telegramsharebtn'onclick\", 'function', 'windowopenhttpstmeshareurlurl', 'encodeuricomponentwindowlocationhref', 'pop', 'width800', 'height600', 'scrollbarsno', 'script', 'li', 'ul', 'div', 'classimagecontainer', 'img', 'classimgresponsive', 'srchttpsblogimageswebscraperioimagesjxmxv5q1epdjsk5yduomj6jchfewkejrqrek9dgopng', 'itempropimage', 'altwebscrapercollaborationblog', 'div', 'div', 'itemproptext', 'pif', 'you', 'are', 'a', 'journalist', 'or', 'a', 'data', 'enthusiast', 'and', 'you', 'are', 'in', 'need', 'of', 'data', 'look', 'no', 'further', 'we', 'web', 'scraper', 'offer', 'a', 'collaborationphrpwe', 'are', 'starting', 'a', 'new', 'blog', 'miniseries', 'in', 'which', 'we', 'would', 'look', 'at', 'the', 'data', 'retrieval', 'technical', 'aspect', 'and', 'brief', 'analysis', 'of', 'the', 'results', 'if', 'any', 'journalists', 'or', 'data', 'enthusiasts', 'lack', 'a', 'technical', 'solution', 'for', 'data', 'extraction', 'then', 'our', 'expertise', 'could', 'be', 'a', 'great', 'solution', 'for', 'youppthe', 'terms', 'are', 'quite', 'straightforward', 'you', 'approach', 'us', 'with', 'your', 'idea', 'and', 'possible', 'data', 'sources', 'that', 'you', 'need', 'to', 'extract', 'information', 'from', 'and', 'we', 'will', 'do', 'the', 'scraping', 'for', 'you', 'therefore', 'making', 'data', 'retrieval', 'no', 'obstacle', 'for', 'your', 'project', 'research', 'article', 'in', 'return', 'we', 'take', 'this', 'opportunity', 'of', 'scraping', 'the', 'data', 'and', 'write', 'our', 'own', 'blog', 'about', 'how', 'the', 'data', 'was', 'retrieved', 'and', 'include', 'our', 'own', 'interpretation', 'of', 'the', 'results', 'of', 'the', 'data', '&', 'nbspppall', 'you', 'have', 'to', 'do', 'is', 'send', 'in', 'a', 'short', 'description', 'of', 'your', 'idea', 'and', 'the', 'possible', 'data', 'sources', 'at', 'infowebscraperio', 'we', 'will', 'review', 'it', 'and', 'if', 'the', 'idea', 'will', 'seem', 'possible', 'we', 'will', 'respond', 'with', 'an', 'ideaexecutionplan', 'for', 'gathering', 'the', 'data', 'for', 'you', '&', 'nbspppdo', 'not', 'hesitate', 'to', 'contact', 'us', 'and', 'let', '’', 's', 'collabp', 'div', 'div', 'classcrtadiv', 'a', 'classlinkforback', 'hrefblogi', 'classfa', 'faanglelefti', 'go', 'back', 'to', 'blog', 'pagea', 'div', 'div', 'div', 'div', 'div', 'div', 'classclearfixdiv', 'div', 'classpushdiv', 'div', 'div', 'classcontainerfluid', 'footer', 'idlayoutfooter', 'div', 'classcontainer', 'div', 'classrow', 'div', 'classcolmd3', 'ul', 'lipproductspli', 'li', 'a', 'hrefweb', 'scraper', 'browser', 'extensiona', 'li', 'li', 'a', 'hrefpricingweb', 'scraper', 'clouda', 'li', 'ul', 'div', 'div', 'classcolmd3', 'ul', 'lipcompanypli', 'lia', 'hrefcontactcontacta', 'li', 'li', 'a', 'hrefprivacypolicywebsite', 'privacy', 'policya', 'li', 'li', 'a', 'hrefextensionprivacypolicybrowser', 'extension', 'privacy', 'policya', 'li', 'li', 'a', 'hrefhttpwebscraperiouseast1elasticbeanstalkcomdownloadsweb_scraper_media_kitzipmedia', 'kita', 'li', 'lia', 'hrefjobsjobsali', 'ul', 'div', 'div', 'classcolmd3', 'ul', 'lipresourcespli', 'lia', 'hrefblogblogali', 'li', 'a', 'hrefdocumentationdocumentationa', 'li', 'li', 'a', 'hreftutorialsvideo', 'tutorialsa', 'li', 'li', 'a', 'hrefscreenshotsscreenshotsa', 'li', 'li', 'a', 'hreftestsitestest', 'sitesa', 'li', 'li', 'a', 'target_blank', 'hrefhttpsforumwebscraperio', 'relnoopenerforuma', 'li', 'ul', 'div', 'div', 'classcolmd3', 'ul', 'lipcontact', 'uspli', 'li', 'a', 'hrefmailtoinfowebscraperioinfowebscraperioa', 'li', 'lirupniecibas', 'iela', '30br', 'riga', 'latvia', 'lv1045li', 'ul', 'ul', 'classsmedia', 'li', 'a', 'hrefhttpswwwfacebookcomwebscraperio', 'target_blank', 'relnoopenerimg', 'srcimgfbiconpng', 'altweb', 'scraper', 'on', 'facebooka', 'li', 'li', 'a', 'hrefhttpstwittercomwebscraperio', 'target_blank', 'relnoopenerimg', 'srcimgtwiconpng', 'altweb', 'scraper', 'on', 'twittera', 'li', 'ul', 'div', 'div', 'div', 'classrow', 'div', 'classcolmd12', 'p', 'classcopyrightcopyright', '&', 'copy', '2021', 'a', 'hrefweb', 'scrapera', 'all', 'rights', 'reserved', 'made', 'by', 'zoom59p', 'div', 'div', 'div', 'div', 'body', 'html']\n"
          ]
        }
      ]
    },
    {
      "cell_type": "code",
      "metadata": {
        "colab": {
          "base_uri": "https://localhost:8080/"
        },
        "id": "Yx0wVZAmhR5k",
        "outputId": "daaea80a-4365-4c11-b934-09dbfa5db247"
      },
      "source": [
        "frekuensi_kata = {} # dictionary\n",
        "for kata in tokens:\n",
        "  if kata not in frekuensi_kata:\n",
        "    frekuensi_kata[kata] = 1\n",
        "  else:\n",
        "    frekuensi_kata[kata] += 1\n",
        "\n",
        "print(frekuensi_kata)"
      ],
      "id": "Yx0wVZAmhR5k",
      "execution_count": null,
      "outputs": [
        {
          "output_type": "stream",
          "name": "stdout",
          "text": [
            "{'doctype': 1, 'html': 3, 'langen': 1, 'head': 2, 'antiflicker': 1, 'snippet': 1, 'recommended': 1, 'styleasynchide': 1, 'opacity': 1, '0': 2, 'important': 1, 'style': 1, 'scriptfunction': 2, 'a': 62, 's': 3, 'y': 3, 'n': 3, 'c': 3, 'h': 2, 'i': 11, 'd': 2, 'e': 1, 'sclassname': 2, \"'\": 13, 'hstart': 1, '1': 1, '*': 1, 'new': 3, 'date': 1, 'hend': 2, 'function': 7, 'sclassnamereplaceregexp': 1, \"''\": 2, '[': 8, ']': 8, 'hide': 1, 'settimeoutfunction': 1, 'null': 1, 'htimeout': 1, 'window': 2, 'documentdocumentelement': 1, \"'asynchide\": 1, \"'datalayer\": 3, '4000': 1, \"'gtmnvfpdwb\": 1, 'truescript': 1, 'google': 4, 'tag': 4, 'manager': 4, 'w': 4, 'l': 7, 'push': 1, \"'gtmstart'\": 1, 'dategettime': 1, 'event': 1, \"'gtmjs'\": 1, 'var': 1, 'f': 2, 'dgetelementsbytagnames': 1, 'j': 1, 'dcreateelements': 1, 'dl': 2, '&': 5, 'jasync': 1, 'true': 1, 'jsrc': 1, \"'httpswwwgoogletagmanagercomgtmjsid\": 1, 'fparentnodeinsertbeforej': 1, 'document': 1, \"'script\": 1, \"'gtmnvfpdwb'script\": 1, 'end': 2, 'titlein': 1, 'need': 9, 'of': 16, 'datatitle': 1, 'meta': 11, 'charsetutf8': 1, 'httpequivxuacompatible': 1, 'contentieedgechrome1': 1, 'namekeywords': 1, 'contentdata': 1, 'collaboration': 4, 'namedescription': 1, 'contentdo': 3, 'you': 13, 'have': 4, 'great': 4, 'idea': 6, 'for': 12, 'project': 4, 'article': 4, 'or': 5, 'research': 4, 'but': 3, 'are': 10, 'in': 8, 'data': 17, 'the': 13, 'perfect': 3, 'execution': 3, 'look': 5, 'no': 5, 'further': 4, 'we': 9, 'offering': 3, 'an': 4, 'offer': 4, 'link': 4, 'relicon': 1, 'sizes128x128': 1, 'hreffaviconpng': 1, 'nameviewport': 1, 'contentwidthdevicewidth': 1, 'initialscale10': 1, 'relstylesheet': 1, 'hrefcssappcsside4de8db16b64e604046e': 1, 'relcanonical': 1, 'hrefhttpswebscraperioblogwebscrapercollaboration': 1, 'relappletouchicon': 1, 'hrefimglogoiconpng': 1, 'script': 13, 'defer': 1, 'srcjsappjside64f07a3ce1d466cf04cscript': 1, 'propertyogtitle': 1, 'contentin': 2, 'propertyogdescription': 1, 'propertyogimage': 1, 'contenthttpsblogimageswebscraperioimagesjxmxv5q1epdjsk5yduomj6jchfewkejrqrek9dgopng': 1, 'nametwittercard': 1, 'contentsummary': 1, 'nametwittertitle': 1, 'nametwitterdescription': 1, 'body': 2, 'noscript': 4, 'iframe': 1, 'srchttpswwwgoogletagmanagercomnshtmlidgtmnvfpdwb': 1, 'height0': 1, 'width0': 1, 'styledisplaynonevisibilityhiddeniframe': 1, 'header': 2, 'rolebanner': 1, 'classnavbar': 1, 'navbarfixedtop': 1, 'navbarstatic': 1, 'div': 51, 'classcontainer': 3, 'classnavbarheader': 1, 'datatogglecollapseside': 1, 'datatargetsidecollapse': 1, 'datatarget2sidecollapsecontainer': 2, 'button': 2, 'typebutton': 1, 'classnavbartoggle': 1, 'pullright': 1, 'collapsed': 1, 'datatogglecollapse': 1, 'datatargetnavbar': 1, 'datatarget3sidecollapse': 1, 'ariaexpandedfalse': 1, 'ariacontrolsnavbar': 1, 'span': 4, 'classsronlytoggle': 1, 'navigationspan': 1, 'classiconbar': 3, 'topbarspan': 1, 'middlebarspan': 1, 'bottombarspan': 1, 'classnavbarbrand': 1, 'hrefimg': 1, 'srcimglogo_whitesvg': 1, 'altweb': 3, 'scrapera': 2, 'classsidecollapse': 1, 'nav': 2, 'idnavbar': 1, 'rolenavigation': 1, 'classnavbarcollapse': 1, 'collapse': 1, 'ul': 16, 'classnav': 1, 'navbarnav': 1, 'navbarright': 1, 'li': 63, 'classhidden': 1, 'hrefpagetopa': 1, 'href': 1, 'classmenuitm': 4, 'pweb': 1, 'scraperp': 2, 'classcrtadiv': 5, 'hrefcloudscraper': 1, 'pcloud': 1, 'hrefpricing': 1, 'ppricingp': 1, 'classdropdown': 1, 'hrefsection3': 1, 'dropdowntoggle': 1, 'datatoggledropdown': 1, 'plearnp': 1, 'classdropdownmenu': 1, 'hrefdocumentationdocumentationa': 2, 'hreftutorialsvideo': 2, 'tutorialsa': 2, 'hrefhowtovideoshow': 1, 'toa': 1, 'hreftestsitestest': 2, 'sitesa': 2, 'hrefhttpsforumwebscraperio': 2, 'target_blank': 5, 'relnoopenerforuma': 2, 'hrefhttpschromegooglecomwebstoredetailwebscraperjnhgnonknehpejjnehehllkliplmbmhnhlen': 1, 'classbtnmenu1': 1, 'installextension': 1, 'relnoopenerinstalla': 1, 'hrefhttpscloudwebscraperio': 1, 'classbtnmenu2logina': 1, 'classwrapper': 1, 'classformenuhere': 1, 'containerfluid': 1, 'classcontainerfluid': 2, 'blogpage': 1, 'blogcontentcontainer': 1, 'classrow': 3, 'classcolmd12': 2, 'classbloginside': 1, 'itemscope': 1, 'itemtypehttpsschemaorgblog': 1, 'h1': 1, 'itempropheadlinein': 1, 'datah1': 1, 'p': 3, 'classdate': 1, 'itempropdatepublishedjune': 1, '05': 1, '2020p': 1, 'classcategory': 1, 'itempropkeywordsdata': 1, 'collaborationp': 1, 'classsharebuttons': 1, 'classshareonsocial': 6, 'facebook': 1, 'classsharebutton': 6, 'idfbsharebtn': 1, 'classfa': 7, 'fafacebooki': 1, \"documentgetelementbyid'fbsharebtn'onclick\": 1, 'windowopenhttpswwwfacebookcomsharersharerphpu': 1, 'windowlocationhref': 3, 'pop': 6, 'width800': 6, 'height600': 6, 'scrollbarsno': 6, 'twitter': 1, 'idtwittersharebtn': 1, 'fatwitteri': 1, \"documentgetelementbyid'twittersharebtn'onclick\": 1, 'windowopenhttpstwittercomintenttweeturl': 1, 'encodeuricomponentwindowlocationhref': 3, 'linkedin': 1, 'idlinkedinsharebtn': 1, 'falinkedini': 1, \"documentgetelementbyid'linkedinsharebtn'onclick\": 1, 'windowopenhttpswwwlinkedincomsharearticleminitrue': 1, 'url': 1, 'reddit': 1, 'idredditsharebtn': 1, 'faredditi': 1, \"documentgetelementbyid'redditsharebtn'onclick\": 1, 'windowopenhttpwwwredditcomsubmiturl': 1, 'whatsapp': 1, 'idwhatsappsharebtn': 1, 'fawhatsappi': 1, \"documentgetelementbyid'whatsappsharebtn'onclick\": 1, 'windowopenhttpswametext': 1, 'telegram': 1, 'idtelegramsharebtn': 1, 'fasendi': 1, \"documentgetelementbyid'telegramsharebtn'onclick\": 1, 'windowopenhttpstmeshareurlurl': 1, 'classimagecontainer': 1, 'img': 1, 'classimgresponsive': 1, 'srchttpsblogimageswebscraperioimagesjxmxv5q1epdjsk5yduomj6jchfewkejrqrek9dgopng': 1, 'itempropimage': 1, 'altwebscrapercollaborationblog': 1, 'itemproptext': 1, 'pif': 1, 'journalist': 1, 'enthusiast': 1, 'and': 9, 'web': 1, 'scraper': 5, 'collaborationphrpwe': 1, 'starting': 1, 'blog': 3, 'miniseries': 1, 'which': 1, 'would': 1, 'at': 2, 'retrieval': 2, 'technical': 2, 'aspect': 1, 'brief': 1, 'analysis': 1, 'results': 2, 'if': 2, 'any': 1, 'journalists': 1, 'enthusiasts': 1, 'lack': 1, 'solution': 2, 'extraction': 1, 'then': 1, 'our': 3, 'expertise': 1, 'could': 1, 'be': 1, 'youppthe': 1, 'terms': 1, 'quite': 1, 'straightforward': 1, 'approach': 1, 'us': 2, 'with': 2, 'your': 3, 'possible': 3, 'sources': 2, 'that': 1, 'to': 4, 'extract': 1, 'information': 1, 'from': 1, 'will': 4, 'do': 2, 'scraping': 2, 'therefore': 1, 'making': 1, 'obstacle': 1, 'return': 1, 'take': 1, 'this': 1, 'opportunity': 1, 'write': 1, 'own': 2, 'about': 1, 'how': 1, 'was': 1, 'retrieved': 1, 'include': 1, 'interpretation': 1, 'nbspppall': 1, 'is': 1, 'send': 1, 'short': 1, 'description': 1, 'infowebscraperio': 1, 'review': 1, 'it': 1, 'seem': 1, 'respond': 1, 'ideaexecutionplan': 1, 'gathering': 1, 'nbspppdo': 1, 'not': 1, 'hesitate': 1, 'contact': 1, 'let': 1, '’': 1, 'collabp': 1, 'classlinkforback': 1, 'hrefblogi': 1, 'faanglelefti': 1, 'go': 1, 'back': 1, 'pagea': 1, 'classclearfixdiv': 1, 'classpushdiv': 1, 'footer': 1, 'idlayoutfooter': 1, 'classcolmd3': 4, 'lipproductspli': 1, 'hrefweb': 2, 'browser': 1, 'extensiona': 1, 'hrefpricingweb': 1, 'clouda': 1, 'lipcompanypli': 1, 'lia': 3, 'hrefcontactcontacta': 1, 'hrefprivacypolicywebsite': 1, 'privacy': 2, 'policya': 2, 'hrefextensionprivacypolicybrowser': 1, 'extension': 1, 'hrefhttpwebscraperiouseast1elasticbeanstalkcomdownloadsweb_scraper_media_kitzipmedia': 1, 'kita': 1, 'hrefjobsjobsali': 1, 'lipresourcespli': 1, 'hrefblogblogali': 1, 'hrefscreenshotsscreenshotsa': 1, 'lipcontact': 1, 'uspli': 1, 'hrefmailtoinfowebscraperioinfowebscraperioa': 1, 'lirupniecibas': 1, 'iela': 1, '30br': 1, 'riga': 1, 'latvia': 1, 'lv1045li': 1, 'classsmedia': 1, 'hrefhttpswwwfacebookcomwebscraperio': 1, 'relnoopenerimg': 2, 'srcimgfbiconpng': 1, 'on': 2, 'facebooka': 1, 'hrefhttpstwittercomwebscraperio': 1, 'srcimgtwiconpng': 1, 'twittera': 1, 'classcopyrightcopyright': 1, 'copy': 1, '2021': 1, 'all': 1, 'rights': 1, 'reserved': 1, 'made': 1, 'by': 1, 'zoom59p': 1}\n"
          ]
        }
      ]
    },
    {
      "cell_type": "code",
      "metadata": {
        "colab": {
          "base_uri": "https://localhost:8080/"
        },
        "id": "tlzbvDf5uy_G",
        "outputId": "6a7fd70f-6b55-46f6-ba35-932d19fccbd6"
      },
      "source": [
        "# Cetak total kata unik (tanpa duplikat)\n",
        "len(frekuensi_kata.keys())"
      ],
      "id": "tlzbvDf5uy_G",
      "execution_count": null,
      "outputs": [
        {
          "output_type": "execute_result",
          "data": {
            "text/plain": [
              "428"
            ]
          },
          "metadata": {},
          "execution_count": 21
        }
      ]
    },
    {
      "cell_type": "code",
      "metadata": {
        "colab": {
          "base_uri": "https://localhost:8080/"
        },
        "id": "KWlo6KpKst3k",
        "outputId": "e73b372b-413d-4732-c4cd-c55c78fd5886"
      },
      "source": [
        "# Print daftar stop words dalam bahasa inggris\n",
        "# Stop word ini untuk setiap project dapat disesuaikan\n",
        "print(stopwords.words('english'))"
      ],
      "id": "KWlo6KpKst3k",
      "execution_count": null,
      "outputs": [
        {
          "output_type": "stream",
          "name": "stdout",
          "text": [
            "['i', 'me', 'my', 'myself', 'we', 'our', 'ours', 'ourselves', 'you', \"you're\", \"you've\", \"you'll\", \"you'd\", 'your', 'yours', 'yourself', 'yourselves', 'he', 'him', 'his', 'himself', 'she', \"she's\", 'her', 'hers', 'herself', 'it', \"it's\", 'its', 'itself', 'they', 'them', 'their', 'theirs', 'themselves', 'what', 'which', 'who', 'whom', 'this', 'that', \"that'll\", 'these', 'those', 'am', 'is', 'are', 'was', 'were', 'be', 'been', 'being', 'have', 'has', 'had', 'having', 'do', 'does', 'did', 'doing', 'a', 'an', 'the', 'and', 'but', 'if', 'or', 'because', 'as', 'until', 'while', 'of', 'at', 'by', 'for', 'with', 'about', 'against', 'between', 'into', 'through', 'during', 'before', 'after', 'above', 'below', 'to', 'from', 'up', 'down', 'in', 'out', 'on', 'off', 'over', 'under', 'again', 'further', 'then', 'once', 'here', 'there', 'when', 'where', 'why', 'how', 'all', 'any', 'both', 'each', 'few', 'more', 'most', 'other', 'some', 'such', 'no', 'nor', 'not', 'only', 'own', 'same', 'so', 'than', 'too', 'very', 's', 't', 'can', 'will', 'just', 'don', \"don't\", 'should', \"should've\", 'now', 'd', 'll', 'm', 'o', 're', 've', 'y', 'ain', 'aren', \"aren't\", 'couldn', \"couldn't\", 'didn', \"didn't\", 'doesn', \"doesn't\", 'hadn', \"hadn't\", 'hasn', \"hasn't\", 'haven', \"haven't\", 'isn', \"isn't\", 'ma', 'mightn', \"mightn't\", 'mustn', \"mustn't\", 'needn', \"needn't\", 'shan', \"shan't\", 'shouldn', \"shouldn't\", 'wasn', \"wasn't\", 'weren', \"weren't\", 'won', \"won't\", 'wouldn', \"wouldn't\"]\n"
          ]
        }
      ]
    },
    {
      "cell_type": "code",
      "metadata": {
        "id": "YRwpgSNIwXB-"
      },
      "source": [
        "en_stop_words = stopwords.words('english')"
      ],
      "id": "YRwpgSNIwXB-",
      "execution_count": null,
      "outputs": []
    },
    {
      "cell_type": "code",
      "metadata": {
        "colab": {
          "base_uri": "https://localhost:8080/"
        },
        "id": "iivJbn4F7cTY",
        "outputId": "2df6b8c0-0fcc-4f73-b15f-b42e22de03eb"
      },
      "source": [
        "\"me\" in en_stop_words"
      ],
      "id": "iivJbn4F7cTY",
      "execution_count": null,
      "outputs": [
        {
          "output_type": "execute_result",
          "data": {
            "text/plain": [
              "True"
            ]
          },
          "metadata": {},
          "execution_count": 24
        }
      ]
    },
    {
      "cell_type": "code",
      "metadata": {
        "id": "x6hG3I2nv0u8"
      },
      "source": [
        "# Menghapus kata yang termasuk ke dalam stopwords bahasa inggris\n",
        "kata_unik = list(frekuensi_kata.keys())\n",
        "for kata in kata_unik:\n",
        "  if kata in en_stop_words:\n",
        "    del frekuensi_kata[kata]\n",
        "\n",
        "# Update kata unik setelah penghapusan stopwords\n",
        "kata_unik = list(frekuensi_kata.keys())"
      ],
      "id": "x6hG3I2nv0u8",
      "execution_count": null,
      "outputs": []
    },
    {
      "cell_type": "code",
      "metadata": {
        "colab": {
          "base_uri": "https://localhost:8080/"
        },
        "id": "R8SxS3LexJEJ",
        "outputId": "c0cdad07-8dcb-403e-e309-2bd7bd86037c"
      },
      "source": [
        "len(frekuensi_kata.keys())"
      ],
      "id": "R8SxS3LexJEJ",
      "execution_count": null,
      "outputs": [
        {
          "output_type": "execute_result",
          "data": {
            "text/plain": [
              "384"
            ]
          },
          "metadata": {},
          "execution_count": 26
        }
      ]
    },
    {
      "cell_type": "code",
      "metadata": {
        "colab": {
          "base_uri": "https://localhost:8080/"
        },
        "id": "bCin5TtNm4A1",
        "outputId": "f3ab98a0-03c9-45aa-f94b-d930fdf9ed0c"
      },
      "source": [
        "sentence = 'Provision Maximum multiply owed caring on go gone going was this'\n",
        "wordList = nltk.word_tokenize(sentence)\n",
        "\n",
        "stemmer = SnowballStemmer('english')\n",
        "stemWords = [stemmer.stem(word) for word in wordList]\n",
        "print(\"SnowBall Stemmer : \", stemWords)\n",
        "\n",
        "stemmer = LancasterStemmer()\n",
        "stemWords = [stemmer.stem(word) for word in wordList]\n",
        "print(\"Lancaster Stemmer : \",stemWords)\n",
        "\n",
        "stemmer = PorterStemmer()\n",
        "stemWords = [stemmer.stem(word) for word in wordList]\n",
        "print(\"Porter Stemmer : \", stemWords)"
      ],
      "id": "bCin5TtNm4A1",
      "execution_count": null,
      "outputs": [
        {
          "output_type": "stream",
          "name": "stdout",
          "text": [
            "SnowBall Stemmer :  ['provis', 'maximum', 'multipli', 'owe', 'care', 'on', 'go', 'gone', 'go', 'was', 'this']\n",
            "Lancaster Stemmer :  ['provid', 'maxim', 'multiply', 'ow', 'car', 'on', 'go', 'gon', 'going', 'was', 'thi']\n",
            "Porter Stemmer :  ['provis', 'maximum', 'multipli', 'owe', 'care', 'on', 'go', 'gone', 'go', 'wa', 'thi']\n"
          ]
        }
      ]
    },
    {
      "cell_type": "code",
      "metadata": {
        "id": "oBrbj80nxnTa"
      },
      "source": [
        "# Instansiasi objek dari Class PorterStemmer dan WordNetLemmatizer\n",
        "stemmer = SnowballStemmer('english')\n",
        "lemmatizer = WordNetLemmatizer()"
      ],
      "id": "oBrbj80nxnTa",
      "execution_count": null,
      "outputs": []
    },
    {
      "cell_type": "code",
      "metadata": {
        "colab": {
          "base_uri": "https://localhost:8080/"
        },
        "id": "8EwyG4tb-Uhx",
        "outputId": "7dbffebf-68ae-4bc8-cf9c-feea419ec2b4"
      },
      "source": [
        "for kata in kata_unik:\n",
        "  print(kata, '|', lemmatizer.lemmatize(kata), '|', lemmatizer.lemmatize(stemmer.stem(kata)), '|', stemmer.stem(lemmatizer.lemmatize(kata)))"
      ],
      "id": "8EwyG4tb-Uhx",
      "execution_count": null,
      "outputs": [
        {
          "output_type": "stream",
          "name": "stdout",
          "text": [
            "doctype | doctype | doctyp | doctyp\n",
            "html | html | html | html\n",
            "langen | langen | langen | langen\n",
            "head | head | head | head\n",
            "antiflicker | antiflicker | antiflick | antiflick\n",
            "snippet | snippet | snippet | snippet\n",
            "recommended | recommended | recommend | recommend\n",
            "styleasynchide | styleasynchide | styleasynchid | styleasynchid\n",
            "opacity | opacity | opac | opac\n",
            "0 | 0 | 0 | 0\n",
            "important | important | import | import\n",
            "style | style | style | style\n",
            "scriptfunction | scriptfunction | scriptfunct | scriptfunct\n",
            "n | n | n | n\n",
            "c | c | c | c\n",
            "h | h | h | h\n",
            "e | e | e | e\n",
            "sclassname | sclassname | sclassnam | sclassnam\n",
            "' | ' | ' | '\n",
            "hstart | hstart | hstart | hstart\n",
            "1 | 1 | 1 | 1\n",
            "* | * | * | *\n",
            "new | new | new | new\n",
            "date | date | date | date\n",
            "hend | hend | hend | hend\n",
            "function | function | function | function\n",
            "sclassnamereplaceregexp | sclassnamereplaceregexp | sclassnamereplaceregexp | sclassnamereplaceregexp\n",
            "'' | '' | '' | ''\n",
            "[ | [ | [ | [\n",
            "] | ] | ] | ]\n",
            "hide | hide | hide | hide\n",
            "settimeoutfunction | settimeoutfunction | settimeoutfunct | settimeoutfunct\n",
            "null | null | null | null\n",
            "htimeout | htimeout | htimeout | htimeout\n",
            "window | window | window | window\n",
            "documentdocumentelement | documentdocumentelement | documentdocumentel | documentdocumentel\n",
            "'asynchide | 'asynchide | asynchid | asynchid\n",
            "'datalayer | 'datalayer | datalay | datalay\n",
            "4000 | 4000 | 4000 | 4000\n",
            "'gtmnvfpdwb | 'gtmnvfpdwb | gtmnvfpdwb | gtmnvfpdwb\n",
            "truescript | truescript | truescript | truescript\n",
            "google | google | googl | googl\n",
            "tag | tag | tag | tag\n",
            "manager | manager | manag | manag\n",
            "w | w | w | w\n",
            "l | l | l | l\n",
            "push | push | push | push\n",
            "'gtmstart' | 'gtmstart' | gtmstart | gtmstart\n",
            "dategettime | dategettime | dategettim | dategettim\n",
            "event | event | event | event\n",
            "'gtmjs' | 'gtmjs' | gtmjs | gtmjs\n",
            "var | var | var | var\n",
            "f | f | f | f\n",
            "dgetelementsbytagnames | dgetelementsbytagnames | dgetelementsbytagnam | dgetelementsbytagnam\n",
            "j | j | j | j\n",
            "dcreateelements | dcreateelements | dcreateel | dcreateel\n",
            "dl | dl | dl | dl\n",
            "& | & | & | &\n",
            "jasync | jasync | jasync | jasync\n",
            "true | true | true | true\n",
            "jsrc | jsrc | jsrc | jsrc\n",
            "'httpswwwgoogletagmanagercomgtmjsid | 'httpswwwgoogletagmanagercomgtmjsid | httpswwwgoogletagmanagercomgtmjsid | httpswwwgoogletagmanagercomgtmjsid\n",
            "fparentnodeinsertbeforej | fparentnodeinsertbeforej | fparentnodeinsertbeforej | fparentnodeinsertbeforej\n",
            "document | document | document | document\n",
            "'script | 'script | script | script\n",
            "'gtmnvfpdwb'script | 'gtmnvfpdwb'script | gtmnvfpdwb'script | gtmnvfpdwb'script\n",
            "end | end | end | end\n",
            "titlein | titlein | titlein | titlein\n",
            "need | need | need | need\n",
            "datatitle | datatitle | datatitl | datatitl\n",
            "meta | meta | meta | meta\n",
            "charsetutf8 | charsetutf8 | charsetutf8 | charsetutf8\n",
            "httpequivxuacompatible | httpequivxuacompatible | httpequivxuacompat | httpequivxuacompat\n",
            "contentieedgechrome1 | contentieedgechrome1 | contentieedgechrome1 | contentieedgechrome1\n",
            "namekeywords | namekeywords | namekeyword | namekeyword\n",
            "contentdata | contentdata | contentdata | contentdata\n",
            "collaboration | collaboration | collabor | collabor\n",
            "namedescription | namedescription | namedescript | namedescript\n",
            "contentdo | contentdo | contentdo | contentdo\n",
            "great | great | great | great\n",
            "idea | idea | idea | idea\n",
            "project | project | project | project\n",
            "article | article | articl | articl\n",
            "research | research | research | research\n",
            "data | data | data | data\n",
            "perfect | perfect | perfect | perfect\n",
            "execution | execution | execut | execut\n",
            "look | look | look | look\n",
            "offering | offering | offer | offer\n",
            "offer | offer | offer | offer\n",
            "link | link | link | link\n",
            "relicon | relicon | relicon | relicon\n",
            "sizes128x128 | sizes128x128 | sizes128x128 | sizes128x128\n",
            "hreffaviconpng | hreffaviconpng | hreffaviconpng | hreffaviconpng\n",
            "nameviewport | nameviewport | nameviewport | nameviewport\n",
            "contentwidthdevicewidth | contentwidthdevicewidth | contentwidthdevicewidth | contentwidthdevicewidth\n",
            "initialscale10 | initialscale10 | initialscale10 | initialscale10\n",
            "relstylesheet | relstylesheet | relstylesheet | relstylesheet\n",
            "hrefcssappcsside4de8db16b64e604046e | hrefcssappcsside4de8db16b64e604046e | hrefcssappcsside4de8db16b64e604046 | hrefcssappcsside4de8db16b64e604046\n",
            "relcanonical | relcanonical | relcanon | relcanon\n",
            "hrefhttpswebscraperioblogwebscrapercollaboration | hrefhttpswebscraperioblogwebscrapercollaboration | hrefhttpswebscraperioblogwebscrapercollabor | hrefhttpswebscraperioblogwebscrapercollabor\n",
            "relappletouchicon | relappletouchicon | relappletouchicon | relappletouchicon\n",
            "hrefimglogoiconpng | hrefimglogoiconpng | hrefimglogoiconpng | hrefimglogoiconpng\n",
            "script | script | script | script\n",
            "defer | defer | defer | defer\n",
            "srcjsappjside64f07a3ce1d466cf04cscript | srcjsappjside64f07a3ce1d466cf04cscript | srcjsappjside64f07a3ce1d466cf04cscript | srcjsappjside64f07a3ce1d466cf04cscript\n",
            "propertyogtitle | propertyogtitle | propertyogtitl | propertyogtitl\n",
            "contentin | contentin | contentin | contentin\n",
            "propertyogdescription | propertyogdescription | propertyogdescript | propertyogdescript\n",
            "propertyogimage | propertyogimage | propertyogimag | propertyogimag\n",
            "contenthttpsblogimageswebscraperioimagesjxmxv5q1epdjsk5yduomj6jchfewkejrqrek9dgopng | contenthttpsblogimageswebscraperioimagesjxmxv5q1epdjsk5yduomj6jchfewkejrqrek9dgopng | contenthttpsblogimageswebscraperioimagesjxmxv5q1epdjsk5yduomj6jchfewkejrqrek9dgopng | contenthttpsblogimageswebscraperioimagesjxmxv5q1epdjsk5yduomj6jchfewkejrqrek9dgopng\n",
            "nametwittercard | nametwittercard | nametwittercard | nametwittercard\n",
            "contentsummary | contentsummary | contentsummari | contentsummari\n",
            "nametwittertitle | nametwittertitle | nametwittertitl | nametwittertitl\n",
            "nametwitterdescription | nametwitterdescription | nametwitterdescript | nametwitterdescript\n",
            "body | body | bodi | bodi\n",
            "noscript | noscript | noscript | noscript\n",
            "iframe | iframe | ifram | ifram\n",
            "srchttpswwwgoogletagmanagercomnshtmlidgtmnvfpdwb | srchttpswwwgoogletagmanagercomnshtmlidgtmnvfpdwb | srchttpswwwgoogletagmanagercomnshtmlidgtmnvfpdwb | srchttpswwwgoogletagmanagercomnshtmlidgtmnvfpdwb\n",
            "height0 | height0 | height0 | height0\n",
            "width0 | width0 | width0 | width0\n",
            "styledisplaynonevisibilityhiddeniframe | styledisplaynonevisibilityhiddeniframe | styledisplaynonevisibilityhiddenifram | styledisplaynonevisibilityhiddenifram\n",
            "header | header | header | header\n",
            "rolebanner | rolebanner | rolebann | rolebann\n",
            "classnavbar | classnavbar | classnavbar | classnavbar\n",
            "navbarfixedtop | navbarfixedtop | navbarfixedtop | navbarfixedtop\n",
            "navbarstatic | navbarstatic | navbarstat | navbarstat\n",
            "div | div | div | div\n",
            "classcontainer | classcontainer | classcontain | classcontain\n",
            "classnavbarheader | classnavbarheader | classnavbarhead | classnavbarhead\n",
            "datatogglecollapseside | datatogglecollapseside | datatogglecollapsesid | datatogglecollapsesid\n",
            "datatargetsidecollapse | datatargetsidecollapse | datatargetsidecollaps | datatargetsidecollaps\n",
            "datatarget2sidecollapsecontainer | datatarget2sidecollapsecontainer | datatarget2sidecollapsecontain | datatarget2sidecollapsecontain\n",
            "button | button | button | button\n",
            "typebutton | typebutton | typebutton | typebutton\n",
            "classnavbartoggle | classnavbartoggle | classnavbartoggl | classnavbartoggl\n",
            "pullright | pullright | pullright | pullright\n",
            "collapsed | collapsed | collaps | collaps\n",
            "datatogglecollapse | datatogglecollapse | datatogglecollaps | datatogglecollaps\n",
            "datatargetnavbar | datatargetnavbar | datatargetnavbar | datatargetnavbar\n",
            "datatarget3sidecollapse | datatarget3sidecollapse | datatarget3sidecollaps | datatarget3sidecollaps\n",
            "ariaexpandedfalse | ariaexpandedfalse | ariaexpandedfals | ariaexpandedfals\n",
            "ariacontrolsnavbar | ariacontrolsnavbar | ariacontrolsnavbar | ariacontrolsnavbar\n",
            "span | span | span | span\n",
            "classsronlytoggle | classsronlytoggle | classsronlytoggl | classsronlytoggl\n",
            "navigationspan | navigationspan | navigationspan | navigationspan\n",
            "classiconbar | classiconbar | classiconbar | classiconbar\n",
            "topbarspan | topbarspan | topbarspan | topbarspan\n",
            "middlebarspan | middlebarspan | middlebarspan | middlebarspan\n",
            "bottombarspan | bottombarspan | bottombarspan | bottombarspan\n",
            "classnavbarbrand | classnavbarbrand | classnavbarbrand | classnavbarbrand\n",
            "hrefimg | hrefimg | hrefimg | hrefimg\n",
            "srcimglogo_whitesvg | srcimglogo_whitesvg | srcimglogo_whitesvg | srcimglogo_whitesvg\n",
            "altweb | altweb | altweb | altweb\n",
            "scrapera | scrapera | scrapera | scrapera\n",
            "classsidecollapse | classsidecollapse | classsidecollaps | classsidecollaps\n",
            "nav | nav | nav | nav\n",
            "idnavbar | idnavbar | idnavbar | idnavbar\n",
            "rolenavigation | rolenavigation | rolenavig | rolenavig\n",
            "classnavbarcollapse | classnavbarcollapse | classnavbarcollaps | classnavbarcollaps\n",
            "collapse | collapse | collaps | collaps\n",
            "ul | ul | ul | ul\n",
            "classnav | classnav | classnav | classnav\n",
            "navbarnav | navbarnav | navbarnav | navbarnav\n",
            "navbarright | navbarright | navbarright | navbarright\n",
            "li | li | li | li\n",
            "classhidden | classhidden | classhidden | classhidden\n",
            "hrefpagetopa | hrefpagetopa | hrefpagetopa | hrefpagetopa\n",
            "href | href | href | href\n",
            "classmenuitm | classmenuitm | classmenuitm | classmenuitm\n",
            "pweb | pweb | pweb | pweb\n",
            "scraperp | scraperp | scraperp | scraperp\n",
            "classcrtadiv | classcrtadiv | classcrtadiv | classcrtadiv\n",
            "hrefcloudscraper | hrefcloudscraper | hrefcloudscrap | hrefcloudscrap\n",
            "pcloud | pcloud | pcloud | pcloud\n",
            "hrefpricing | hrefpricing | hrefpric | hrefpric\n",
            "ppricingp | ppricingp | ppricingp | ppricingp\n",
            "classdropdown | classdropdown | classdropdown | classdropdown\n",
            "hrefsection3 | hrefsection3 | hrefsection3 | hrefsection3\n",
            "dropdowntoggle | dropdowntoggle | dropdowntoggl | dropdowntoggl\n",
            "datatoggledropdown | datatoggledropdown | datatoggledropdown | datatoggledropdown\n",
            "plearnp | plearnp | plearnp | plearnp\n",
            "classdropdownmenu | classdropdownmenu | classdropdownmenu | classdropdownmenu\n",
            "hrefdocumentationdocumentationa | hrefdocumentationdocumentationa | hrefdocumentationdocumentationa | hrefdocumentationdocumentationa\n",
            "hreftutorialsvideo | hreftutorialsvideo | hreftutorialsvideo | hreftutorialsvideo\n",
            "tutorialsa | tutorialsa | tutorialsa | tutorialsa\n",
            "hrefhowtovideoshow | hrefhowtovideoshow | hrefhowtovideoshow | hrefhowtovideoshow\n",
            "toa | toa | toa | toa\n",
            "hreftestsitestest | hreftestsitestest | hreftestsitestest | hreftestsitestest\n",
            "sitesa | sitesa | sitesa | sitesa\n",
            "hrefhttpsforumwebscraperio | hrefhttpsforumwebscraperio | hrefhttpsforumwebscraperio | hrefhttpsforumwebscraperio\n",
            "target_blank | target_blank | target_blank | target_blank\n",
            "relnoopenerforuma | relnoopenerforuma | relnoopenerforuma | relnoopenerforuma\n",
            "hrefhttpschromegooglecomwebstoredetailwebscraperjnhgnonknehpejjnehehllkliplmbmhnhlen | hrefhttpschromegooglecomwebstoredetailwebscraperjnhgnonknehpejjnehehllkliplmbmhnhlen | hrefhttpschromegooglecomwebstoredetailwebscraperjnhgnonknehpejjnehehllkliplmbmhnhlen | hrefhttpschromegooglecomwebstoredetailwebscraperjnhgnonknehpejjnehehllkliplmbmhnhlen\n",
            "classbtnmenu1 | classbtnmenu1 | classbtnmenu1 | classbtnmenu1\n",
            "installextension | installextension | installextens | installextens\n",
            "relnoopenerinstalla | relnoopenerinstalla | relnoopenerinstalla | relnoopenerinstalla\n",
            "hrefhttpscloudwebscraperio | hrefhttpscloudwebscraperio | hrefhttpscloudwebscraperio | hrefhttpscloudwebscraperio\n",
            "classbtnmenu2logina | classbtnmenu2logina | classbtnmenu2logina | classbtnmenu2logina\n",
            "classwrapper | classwrapper | classwrapp | classwrapp\n",
            "classformenuhere | classformenuhere | classformenuher | classformenuher\n",
            "containerfluid | containerfluid | containerfluid | containerfluid\n",
            "classcontainerfluid | classcontainerfluid | classcontainerfluid | classcontainerfluid\n",
            "blogpage | blogpage | blogpag | blogpag\n",
            "blogcontentcontainer | blogcontentcontainer | blogcontentcontain | blogcontentcontain\n",
            "classrow | classrow | classrow | classrow\n",
            "classcolmd12 | classcolmd12 | classcolmd12 | classcolmd12\n",
            "classbloginside | classbloginside | classbloginsid | classbloginsid\n",
            "itemscope | itemscope | itemscop | itemscop\n",
            "itemtypehttpsschemaorgblog | itemtypehttpsschemaorgblog | itemtypehttpsschemaorgblog | itemtypehttpsschemaorgblog\n",
            "h1 | h1 | h1 | h1\n",
            "itempropheadlinein | itempropheadlinein | itempropheadlinein | itempropheadlinein\n",
            "datah1 | datah1 | datah1 | datah1\n",
            "p | p | p | p\n",
            "classdate | classdate | classdat | classdat\n",
            "itempropdatepublishedjune | itempropdatepublishedjune | itempropdatepublishedjun | itempropdatepublishedjun\n",
            "05 | 05 | 05 | 05\n",
            "2020p | 2020p | 2020p | 2020p\n",
            "classcategory | classcategory | classcategori | classcategori\n",
            "itempropkeywordsdata | itempropkeywordsdata | itempropkeywordsdata | itempropkeywordsdata\n",
            "collaborationp | collaborationp | collaborationp | collaborationp\n",
            "classsharebuttons | classsharebuttons | classsharebutton | classsharebutton\n",
            "classshareonsocial | classshareonsocial | classshareonsoci | classshareonsoci\n",
            "facebook | facebook | facebook | facebook\n",
            "classsharebutton | classsharebutton | classsharebutton | classsharebutton\n",
            "idfbsharebtn | idfbsharebtn | idfbsharebtn | idfbsharebtn\n",
            "classfa | classfa | classfa | classfa\n",
            "fafacebooki | fafacebooki | fafacebooki | fafacebooki\n",
            "documentgetelementbyid'fbsharebtn'onclick | documentgetelementbyid'fbsharebtn'onclick | documentgetelementbyid'fbsharebtn'onclick | documentgetelementbyid'fbsharebtn'onclick\n",
            "windowopenhttpswwwfacebookcomsharersharerphpu | windowopenhttpswwwfacebookcomsharersharerphpu | windowopenhttpswwwfacebookcomsharersharerphpu | windowopenhttpswwwfacebookcomsharersharerphpu\n",
            "windowlocationhref | windowlocationhref | windowlocationhref | windowlocationhref\n",
            "pop | pop | pop | pop\n",
            "width800 | width800 | width800 | width800\n",
            "height600 | height600 | height600 | height600\n",
            "scrollbarsno | scrollbarsno | scrollbarsno | scrollbarsno\n",
            "twitter | twitter | twitter | twitter\n",
            "idtwittersharebtn | idtwittersharebtn | idtwittersharebtn | idtwittersharebtn\n",
            "fatwitteri | fatwitteri | fatwitteri | fatwitteri\n",
            "documentgetelementbyid'twittersharebtn'onclick | documentgetelementbyid'twittersharebtn'onclick | documentgetelementbyid'twittersharebtn'onclick | documentgetelementbyid'twittersharebtn'onclick\n",
            "windowopenhttpstwittercomintenttweeturl | windowopenhttpstwittercomintenttweeturl | windowopenhttpstwittercomintenttweeturl | windowopenhttpstwittercomintenttweeturl\n",
            "encodeuricomponentwindowlocationhref | encodeuricomponentwindowlocationhref | encodeuricomponentwindowlocationhref | encodeuricomponentwindowlocationhref\n",
            "linkedin | linkedin | linkedin | linkedin\n",
            "idlinkedinsharebtn | idlinkedinsharebtn | idlinkedinsharebtn | idlinkedinsharebtn\n",
            "falinkedini | falinkedini | falinkedini | falinkedini\n",
            "documentgetelementbyid'linkedinsharebtn'onclick | documentgetelementbyid'linkedinsharebtn'onclick | documentgetelementbyid'linkedinsharebtn'onclick | documentgetelementbyid'linkedinsharebtn'onclick\n",
            "windowopenhttpswwwlinkedincomsharearticleminitrue | windowopenhttpswwwlinkedincomsharearticleminitrue | windowopenhttpswwwlinkedincomsharearticleminitru | windowopenhttpswwwlinkedincomsharearticleminitru\n",
            "url | url | url | url\n",
            "reddit | reddit | reddit | reddit\n",
            "idredditsharebtn | idredditsharebtn | idredditsharebtn | idredditsharebtn\n",
            "faredditi | faredditi | faredd | faredd\n",
            "documentgetelementbyid'redditsharebtn'onclick | documentgetelementbyid'redditsharebtn'onclick | documentgetelementbyid'redditsharebtn'onclick | documentgetelementbyid'redditsharebtn'onclick\n",
            "windowopenhttpwwwredditcomsubmiturl | windowopenhttpwwwredditcomsubmiturl | windowopenhttpwwwredditcomsubmiturl | windowopenhttpwwwredditcomsubmiturl\n",
            "whatsapp | whatsapp | whatsapp | whatsapp\n",
            "idwhatsappsharebtn | idwhatsappsharebtn | idwhatsappsharebtn | idwhatsappsharebtn\n",
            "fawhatsappi | fawhatsappi | fawhatsappi | fawhatsappi\n",
            "documentgetelementbyid'whatsappsharebtn'onclick | documentgetelementbyid'whatsappsharebtn'onclick | documentgetelementbyid'whatsappsharebtn'onclick | documentgetelementbyid'whatsappsharebtn'onclick\n",
            "windowopenhttpswametext | windowopenhttpswametext | windowopenhttpswametext | windowopenhttpswametext\n",
            "telegram | telegram | telegram | telegram\n",
            "idtelegramsharebtn | idtelegramsharebtn | idtelegramsharebtn | idtelegramsharebtn\n",
            "fasendi | fasendi | fasendi | fasendi\n",
            "documentgetelementbyid'telegramsharebtn'onclick | documentgetelementbyid'telegramsharebtn'onclick | documentgetelementbyid'telegramsharebtn'onclick | documentgetelementbyid'telegramsharebtn'onclick\n",
            "windowopenhttpstmeshareurlurl | windowopenhttpstmeshareurlurl | windowopenhttpstmeshareurlurl | windowopenhttpstmeshareurlurl\n",
            "classimagecontainer | classimagecontainer | classimagecontain | classimagecontain\n",
            "img | img | img | img\n",
            "classimgresponsive | classimgresponsive | classimgrespons | classimgrespons\n",
            "srchttpsblogimageswebscraperioimagesjxmxv5q1epdjsk5yduomj6jchfewkejrqrek9dgopng | srchttpsblogimageswebscraperioimagesjxmxv5q1epdjsk5yduomj6jchfewkejrqrek9dgopng | srchttpsblogimageswebscraperioimagesjxmxv5q1epdjsk5yduomj6jchfewkejrqrek9dgopng | srchttpsblogimageswebscraperioimagesjxmxv5q1epdjsk5yduomj6jchfewkejrqrek9dgopng\n",
            "itempropimage | itempropimage | itempropimag | itempropimag\n",
            "altwebscrapercollaborationblog | altwebscrapercollaborationblog | altwebscrapercollaborationblog | altwebscrapercollaborationblog\n",
            "itemproptext | itemproptext | itemproptext | itemproptext\n",
            "pif | pif | pif | pif\n",
            "journalist | journalist | journalist | journalist\n",
            "enthusiast | enthusiast | enthusiast | enthusiast\n",
            "web | web | web | web\n",
            "scraper | scraper | scraper | scraper\n",
            "collaborationphrpwe | collaborationphrpwe | collaborationphrpw | collaborationphrpw\n",
            "starting | starting | start | start\n",
            "blog | blog | blog | blog\n",
            "miniseries | miniseries | miniseri | miniseri\n",
            "would | would | would | would\n",
            "retrieval | retrieval | retriev | retriev\n",
            "technical | technical | technic | technic\n",
            "aspect | aspect | aspect | aspect\n",
            "brief | brief | brief | brief\n",
            "analysis | analysis | analysi | analysi\n",
            "results | result | result | result\n",
            "journalists | journalist | journalist | journalist\n",
            "enthusiasts | enthusiast | enthusiast | enthusiast\n",
            "lack | lack | lack | lack\n",
            "solution | solution | solut | solut\n",
            "extraction | extraction | extract | extract\n",
            "expertise | expertise | expertis | expertis\n",
            "could | could | could | could\n",
            "youppthe | youppthe | youppth | youppth\n",
            "terms | term | term | term\n",
            "quite | quite | quit | quit\n",
            "straightforward | straightforward | straightforward | straightforward\n",
            "approach | approach | approach | approach\n",
            "us | u | u | u\n",
            "possible | possible | possibl | possibl\n",
            "sources | source | sourc | sourc\n",
            "extract | extract | extract | extract\n",
            "information | information | inform | inform\n",
            "scraping | scraping | scrape | scrape\n",
            "therefore | therefore | therefor | therefor\n",
            "making | making | make | make\n",
            "obstacle | obstacle | obstacl | obstacl\n",
            "return | return | return | return\n",
            "take | take | take | take\n",
            "opportunity | opportunity | opportun | opportun\n",
            "write | write | write | write\n",
            "retrieved | retrieved | retriev | retriev\n",
            "include | include | includ | includ\n",
            "interpretation | interpretation | interpret | interpret\n",
            "nbspppall | nbspppall | nbspppall | nbspppall\n",
            "send | send | send | send\n",
            "short | short | short | short\n",
            "description | description | descript | descript\n",
            "infowebscraperio | infowebscraperio | infowebscraperio | infowebscraperio\n",
            "review | review | review | review\n",
            "seem | seem | seem | seem\n",
            "respond | respond | respond | respond\n",
            "ideaexecutionplan | ideaexecutionplan | ideaexecutionplan | ideaexecutionplan\n",
            "gathering | gathering | gather | gather\n",
            "nbspppdo | nbspppdo | nbspppdo | nbspppdo\n",
            "hesitate | hesitate | hesit | hesit\n",
            "contact | contact | contact | contact\n",
            "let | let | let | let\n",
            "’ | ’ | ’ | ’\n",
            "collabp | collabp | collabp | collabp\n",
            "classlinkforback | classlinkforback | classlinkforback | classlinkforback\n",
            "hrefblogi | hrefblogi | hrefblog | hrefblog\n",
            "faanglelefti | faanglelefti | faanglelefti | faanglelefti\n",
            "go | go | go | go\n",
            "back | back | back | back\n",
            "pagea | pagea | pagea | pagea\n",
            "classclearfixdiv | classclearfixdiv | classclearfixdiv | classclearfixdiv\n",
            "classpushdiv | classpushdiv | classpushdiv | classpushdiv\n",
            "footer | footer | footer | footer\n",
            "idlayoutfooter | idlayoutfooter | idlayoutfoot | idlayoutfoot\n",
            "classcolmd3 | classcolmd3 | classcolmd3 | classcolmd3\n",
            "lipproductspli | lipproductspli | lipproductspli | lipproductspli\n",
            "hrefweb | hrefweb | hrefweb | hrefweb\n",
            "browser | browser | browser | browser\n",
            "extensiona | extensiona | extensiona | extensiona\n",
            "hrefpricingweb | hrefpricingweb | hrefpricingweb | hrefpricingweb\n",
            "clouda | clouda | clouda | clouda\n",
            "lipcompanypli | lipcompanypli | lipcompanypli | lipcompanypli\n",
            "lia | lia | lia | lia\n",
            "hrefcontactcontacta | hrefcontactcontacta | hrefcontactcontacta | hrefcontactcontacta\n",
            "hrefprivacypolicywebsite | hrefprivacypolicywebsite | hrefprivacypolicywebsit | hrefprivacypolicywebsit\n",
            "privacy | privacy | privaci | privaci\n",
            "policya | policya | policya | policya\n",
            "hrefextensionprivacypolicybrowser | hrefextensionprivacypolicybrowser | hrefextensionprivacypolicybrows | hrefextensionprivacypolicybrows\n",
            "extension | extension | extens | extens\n",
            "hrefhttpwebscraperiouseast1elasticbeanstalkcomdownloadsweb_scraper_media_kitzipmedia | hrefhttpwebscraperiouseast1elasticbeanstalkcomdownloadsweb_scraper_media_kitzipmedia | hrefhttpwebscraperiouseast1elasticbeanstalkcomdownloadsweb_scraper_media_kitzipmedia | hrefhttpwebscraperiouseast1elasticbeanstalkcomdownloadsweb_scraper_media_kitzipmedia\n",
            "kita | kita | kita | kita\n",
            "hrefjobsjobsali | hrefjobsjobsali | hrefjobsjobsali | hrefjobsjobsali\n",
            "lipresourcespli | lipresourcespli | lipresourcespli | lipresourcespli\n",
            "hrefblogblogali | hrefblogblogali | hrefblogblogali | hrefblogblogali\n",
            "hrefscreenshotsscreenshotsa | hrefscreenshotsscreenshotsa | hrefscreenshotsscreenshotsa | hrefscreenshotsscreenshotsa\n",
            "lipcontact | lipcontact | lipcontact | lipcontact\n",
            "uspli | uspli | uspli | uspli\n",
            "hrefmailtoinfowebscraperioinfowebscraperioa | hrefmailtoinfowebscraperioinfowebscraperioa | hrefmailtoinfowebscraperioinfowebscraperioa | hrefmailtoinfowebscraperioinfowebscraperioa\n",
            "lirupniecibas | lirupniecibas | lirupnieciba | lirupnieciba\n",
            "iela | iela | iela | iela\n",
            "30br | 30br | 30br | 30br\n",
            "riga | riga | riga | riga\n",
            "latvia | latvia | latvia | latvia\n",
            "lv1045li | lv1045li | lv1045li | lv1045li\n",
            "classsmedia | classsmedia | classsmedia | classsmedia\n",
            "hrefhttpswwwfacebookcomwebscraperio | hrefhttpswwwfacebookcomwebscraperio | hrefhttpswwwfacebookcomwebscraperio | hrefhttpswwwfacebookcomwebscraperio\n",
            "relnoopenerimg | relnoopenerimg | relnoopenerimg | relnoopenerimg\n",
            "srcimgfbiconpng | srcimgfbiconpng | srcimgfbiconpng | srcimgfbiconpng\n",
            "facebooka | facebooka | facebooka | facebooka\n",
            "hrefhttpstwittercomwebscraperio | hrefhttpstwittercomwebscraperio | hrefhttpstwittercomwebscraperio | hrefhttpstwittercomwebscraperio\n",
            "srcimgtwiconpng | srcimgtwiconpng | srcimgtwiconpng | srcimgtwiconpng\n",
            "twittera | twittera | twittera | twittera\n",
            "classcopyrightcopyright | classcopyrightcopyright | classcopyrightcopyright | classcopyrightcopyright\n",
            "copy | copy | copi | copi\n",
            "2021 | 2021 | 2021 | 2021\n",
            "rights | right | right | right\n",
            "reserved | reserved | reserv | reserv\n",
            "made | made | made | made\n",
            "zoom59p | zoom59p | zoom59p | zoom59p\n"
          ]
        }
      ]
    },
    {
      "cell_type": "code",
      "metadata": {
        "colab": {
          "base_uri": "https://localhost:8080/"
        },
        "id": "FhlFlGg2B-Rh",
        "outputId": "69ff0097-6312-4ba3-f6a7-b78d3d7e1f04"
      },
      "source": [
        "# Menggunakan pos pada lemmatizer untuk menentukan part of speech atau kategori kata\n",
        "print(lemmatizer.lemmatize('exercising'))\n",
        "print(lemmatizer.lemmatize('exercising', pos = 'v'))"
      ],
      "id": "FhlFlGg2B-Rh",
      "execution_count": null,
      "outputs": [
        {
          "output_type": "stream",
          "name": "stdout",
          "text": [
            "exercising\n",
            "exercise\n"
          ]
        }
      ]
    },
    {
      "cell_type": "code",
      "metadata": {
        "colab": {
          "base_uri": "https://localhost:8080/"
        },
        "id": "CGMSkVC-WKth",
        "outputId": "9f81f637-cd7d-4733-a0e2-4b5f547f7c09"
      },
      "source": [
        "token_lemmatized = [lemmatizer.lemmatize(kata, pos='v') for kata in kata_unik]\n",
        "token_lemmatized = [lemmatizer.lemmatize(kata) for kata in token_lemmatized]\n",
        "\n",
        "frekuensi_kata_postprocessing = {}\n",
        "for kata in token_lemmatized:\n",
        "  if kata not in frekuensi_kata_postprocessing:\n",
        "    frekuensi_kata_postprocessing[kata] = 1\n",
        "  else:\n",
        "    frekuensi_kata_postprocessing[kata] += 1\n",
        "\n",
        "\n",
        "frekuensi_kata_postprocessing"
      ],
      "id": "CGMSkVC-WKth",
      "execution_count": null,
      "outputs": [
        {
          "output_type": "execute_result",
          "data": {
            "text/plain": [
              "{'&': 1,\n",
              " \"'\": 1,\n",
              " \"''\": 1,\n",
              " \"'asynchide\": 1,\n",
              " \"'datalayer\": 1,\n",
              " \"'gtmjs'\": 1,\n",
              " \"'gtmnvfpdwb\": 1,\n",
              " \"'gtmnvfpdwb'script\": 1,\n",
              " \"'gtmstart'\": 1,\n",
              " \"'httpswwwgoogletagmanagercomgtmjsid\": 1,\n",
              " \"'script\": 1,\n",
              " '*': 1,\n",
              " '0': 1,\n",
              " '05': 1,\n",
              " '1': 1,\n",
              " '2020p': 1,\n",
              " '2021': 1,\n",
              " '30br': 1,\n",
              " '4000': 1,\n",
              " '[': 1,\n",
              " ']': 1,\n",
              " 'altweb': 1,\n",
              " 'altwebscrapercollaborationblog': 1,\n",
              " 'analysis': 1,\n",
              " 'antiflicker': 1,\n",
              " 'approach': 1,\n",
              " 'ariacontrolsnavbar': 1,\n",
              " 'ariaexpandedfalse': 1,\n",
              " 'article': 1,\n",
              " 'aspect': 1,\n",
              " 'back': 1,\n",
              " 'blog': 1,\n",
              " 'blogcontentcontainer': 1,\n",
              " 'blogpage': 1,\n",
              " 'body': 1,\n",
              " 'bottombarspan': 1,\n",
              " 'brief': 1,\n",
              " 'browser': 1,\n",
              " 'button': 1,\n",
              " 'c': 1,\n",
              " 'charsetutf8': 1,\n",
              " 'classbloginside': 1,\n",
              " 'classbtnmenu1': 1,\n",
              " 'classbtnmenu2logina': 1,\n",
              " 'classcategory': 1,\n",
              " 'classclearfixdiv': 1,\n",
              " 'classcolmd12': 1,\n",
              " 'classcolmd3': 1,\n",
              " 'classcontainer': 1,\n",
              " 'classcontainerfluid': 1,\n",
              " 'classcopyrightcopyright': 1,\n",
              " 'classcrtadiv': 1,\n",
              " 'classdate': 1,\n",
              " 'classdropdown': 1,\n",
              " 'classdropdownmenu': 1,\n",
              " 'classfa': 1,\n",
              " 'classformenuhere': 1,\n",
              " 'classhidden': 1,\n",
              " 'classiconbar': 1,\n",
              " 'classimagecontainer': 1,\n",
              " 'classimgresponsive': 1,\n",
              " 'classlinkforback': 1,\n",
              " 'classmenuitm': 1,\n",
              " 'classnav': 1,\n",
              " 'classnavbar': 1,\n",
              " 'classnavbarbrand': 1,\n",
              " 'classnavbarcollapse': 1,\n",
              " 'classnavbarheader': 1,\n",
              " 'classnavbartoggle': 1,\n",
              " 'classpushdiv': 1,\n",
              " 'classrow': 1,\n",
              " 'classsharebutton': 1,\n",
              " 'classsharebuttons': 1,\n",
              " 'classshareonsocial': 1,\n",
              " 'classsidecollapse': 1,\n",
              " 'classsmedia': 1,\n",
              " 'classsronlytoggle': 1,\n",
              " 'classwrapper': 1,\n",
              " 'clouda': 1,\n",
              " 'collaboration': 1,\n",
              " 'collaborationp': 1,\n",
              " 'collaborationphrpwe': 1,\n",
              " 'collabp': 1,\n",
              " 'collapse': 2,\n",
              " 'contact': 1,\n",
              " 'containerfluid': 1,\n",
              " 'contentdata': 1,\n",
              " 'contentdo': 1,\n",
              " 'contenthttpsblogimageswebscraperioimagesjxmxv5q1epdjsk5yduomj6jchfewkejrqrek9dgopng': 1,\n",
              " 'contentieedgechrome1': 1,\n",
              " 'contentin': 1,\n",
              " 'contentsummary': 1,\n",
              " 'contentwidthdevicewidth': 1,\n",
              " 'copy': 1,\n",
              " 'could': 1,\n",
              " 'data': 1,\n",
              " 'datah1': 1,\n",
              " 'datatarget2sidecollapsecontainer': 1,\n",
              " 'datatarget3sidecollapse': 1,\n",
              " 'datatargetnavbar': 1,\n",
              " 'datatargetsidecollapse': 1,\n",
              " 'datatitle': 1,\n",
              " 'datatogglecollapse': 1,\n",
              " 'datatogglecollapseside': 1,\n",
              " 'datatoggledropdown': 1,\n",
              " 'date': 1,\n",
              " 'dategettime': 1,\n",
              " 'dcreateelements': 1,\n",
              " 'defer': 1,\n",
              " 'description': 1,\n",
              " 'dgetelementsbytagnames': 1,\n",
              " 'div': 1,\n",
              " 'dl': 1,\n",
              " 'doctype': 1,\n",
              " 'document': 1,\n",
              " 'documentdocumentelement': 1,\n",
              " \"documentgetelementbyid'fbsharebtn'onclick\": 1,\n",
              " \"documentgetelementbyid'linkedinsharebtn'onclick\": 1,\n",
              " \"documentgetelementbyid'redditsharebtn'onclick\": 1,\n",
              " \"documentgetelementbyid'telegramsharebtn'onclick\": 1,\n",
              " \"documentgetelementbyid'twittersharebtn'onclick\": 1,\n",
              " \"documentgetelementbyid'whatsappsharebtn'onclick\": 1,\n",
              " 'dropdowntoggle': 1,\n",
              " 'e': 1,\n",
              " 'encodeuricomponentwindowlocationhref': 1,\n",
              " 'end': 1,\n",
              " 'enthusiast': 2,\n",
              " 'event': 1,\n",
              " 'execution': 1,\n",
              " 'expertise': 1,\n",
              " 'extension': 1,\n",
              " 'extensiona': 1,\n",
              " 'extract': 1,\n",
              " 'extraction': 1,\n",
              " 'f': 1,\n",
              " 'faanglelefti': 1,\n",
              " 'facebook': 1,\n",
              " 'facebooka': 1,\n",
              " 'fafacebooki': 1,\n",
              " 'falinkedini': 1,\n",
              " 'faredditi': 1,\n",
              " 'fasendi': 1,\n",
              " 'fatwitteri': 1,\n",
              " 'fawhatsappi': 1,\n",
              " 'footer': 1,\n",
              " 'fparentnodeinsertbeforej': 1,\n",
              " 'function': 1,\n",
              " 'gather': 1,\n",
              " 'go': 1,\n",
              " 'google': 1,\n",
              " 'great': 1,\n",
              " 'h': 1,\n",
              " 'h1': 1,\n",
              " 'head': 1,\n",
              " 'header': 1,\n",
              " 'height0': 1,\n",
              " 'height600': 1,\n",
              " 'hend': 1,\n",
              " 'hesitate': 1,\n",
              " 'hide': 1,\n",
              " 'href': 1,\n",
              " 'hrefblogblogali': 1,\n",
              " 'hrefblogi': 1,\n",
              " 'hrefcloudscraper': 1,\n",
              " 'hrefcontactcontacta': 1,\n",
              " 'hrefcssappcsside4de8db16b64e604046e': 1,\n",
              " 'hrefdocumentationdocumentationa': 1,\n",
              " 'hrefextensionprivacypolicybrowser': 1,\n",
              " 'hreffaviconpng': 1,\n",
              " 'hrefhowtovideoshow': 1,\n",
              " 'hrefhttpschromegooglecomwebstoredetailwebscraperjnhgnonknehpejjnehehllkliplmbmhnhlen': 1,\n",
              " 'hrefhttpscloudwebscraperio': 1,\n",
              " 'hrefhttpsforumwebscraperio': 1,\n",
              " 'hrefhttpstwittercomwebscraperio': 1,\n",
              " 'hrefhttpswebscraperioblogwebscrapercollaboration': 1,\n",
              " 'hrefhttpswwwfacebookcomwebscraperio': 1,\n",
              " 'hrefhttpwebscraperiouseast1elasticbeanstalkcomdownloadsweb_scraper_media_kitzipmedia': 1,\n",
              " 'hrefimg': 1,\n",
              " 'hrefimglogoiconpng': 1,\n",
              " 'hrefjobsjobsali': 1,\n",
              " 'hrefmailtoinfowebscraperioinfowebscraperioa': 1,\n",
              " 'hrefpagetopa': 1,\n",
              " 'hrefpricing': 1,\n",
              " 'hrefpricingweb': 1,\n",
              " 'hrefprivacypolicywebsite': 1,\n",
              " 'hrefscreenshotsscreenshotsa': 1,\n",
              " 'hrefsection3': 1,\n",
              " 'hreftestsitestest': 1,\n",
              " 'hreftutorialsvideo': 1,\n",
              " 'hrefweb': 1,\n",
              " 'hstart': 1,\n",
              " 'htimeout': 1,\n",
              " 'html': 1,\n",
              " 'httpequivxuacompatible': 1,\n",
              " 'idea': 1,\n",
              " 'ideaexecutionplan': 1,\n",
              " 'idfbsharebtn': 1,\n",
              " 'idlayoutfooter': 1,\n",
              " 'idlinkedinsharebtn': 1,\n",
              " 'idnavbar': 1,\n",
              " 'idredditsharebtn': 1,\n",
              " 'idtelegramsharebtn': 1,\n",
              " 'idtwittersharebtn': 1,\n",
              " 'idwhatsappsharebtn': 1,\n",
              " 'iela': 1,\n",
              " 'iframe': 1,\n",
              " 'img': 1,\n",
              " 'important': 1,\n",
              " 'include': 1,\n",
              " 'information': 1,\n",
              " 'infowebscraperio': 1,\n",
              " 'initialscale10': 1,\n",
              " 'installextension': 1,\n",
              " 'interpretation': 1,\n",
              " 'itempropdatepublishedjune': 1,\n",
              " 'itempropheadlinein': 1,\n",
              " 'itempropimage': 1,\n",
              " 'itempropkeywordsdata': 1,\n",
              " 'itemproptext': 1,\n",
              " 'itemscope': 1,\n",
              " 'itemtypehttpsschemaorgblog': 1,\n",
              " 'j': 1,\n",
              " 'jasync': 1,\n",
              " 'journalist': 2,\n",
              " 'jsrc': 1,\n",
              " 'kita': 1,\n",
              " 'l': 1,\n",
              " 'lack': 1,\n",
              " 'langen': 1,\n",
              " 'latvia': 1,\n",
              " 'let': 1,\n",
              " 'li': 1,\n",
              " 'lia': 1,\n",
              " 'link': 1,\n",
              " 'linkedin': 1,\n",
              " 'lipcompanypli': 1,\n",
              " 'lipcontact': 1,\n",
              " 'lipproductspli': 1,\n",
              " 'lipresourcespli': 1,\n",
              " 'lirupniecibas': 1,\n",
              " 'look': 1,\n",
              " 'lv1045li': 1,\n",
              " 'make': 2,\n",
              " 'manager': 1,\n",
              " 'meta': 1,\n",
              " 'middlebarspan': 1,\n",
              " 'miniseries': 1,\n",
              " 'n': 1,\n",
              " 'namedescription': 1,\n",
              " 'namekeywords': 1,\n",
              " 'nametwittercard': 1,\n",
              " 'nametwitterdescription': 1,\n",
              " 'nametwittertitle': 1,\n",
              " 'nameviewport': 1,\n",
              " 'nav': 1,\n",
              " 'navbarfixedtop': 1,\n",
              " 'navbarnav': 1,\n",
              " 'navbarright': 1,\n",
              " 'navbarstatic': 1,\n",
              " 'navigationspan': 1,\n",
              " 'nbspppall': 1,\n",
              " 'nbspppdo': 1,\n",
              " 'need': 1,\n",
              " 'new': 1,\n",
              " 'noscript': 1,\n",
              " 'null': 1,\n",
              " 'obstacle': 1,\n",
              " 'offer': 2,\n",
              " 'opacity': 1,\n",
              " 'opportunity': 1,\n",
              " 'p': 1,\n",
              " 'pagea': 1,\n",
              " 'pcloud': 1,\n",
              " 'perfect': 1,\n",
              " 'pif': 1,\n",
              " 'plearnp': 1,\n",
              " 'policya': 1,\n",
              " 'pop': 1,\n",
              " 'possible': 1,\n",
              " 'ppricingp': 1,\n",
              " 'privacy': 1,\n",
              " 'project': 1,\n",
              " 'propertyogdescription': 1,\n",
              " 'propertyogimage': 1,\n",
              " 'propertyogtitle': 1,\n",
              " 'pullright': 1,\n",
              " 'push': 1,\n",
              " 'pweb': 1,\n",
              " 'quite': 1,\n",
              " 'recommend': 1,\n",
              " 'reddit': 1,\n",
              " 'relappletouchicon': 1,\n",
              " 'relcanonical': 1,\n",
              " 'relicon': 1,\n",
              " 'relnoopenerforuma': 1,\n",
              " 'relnoopenerimg': 1,\n",
              " 'relnoopenerinstalla': 1,\n",
              " 'relstylesheet': 1,\n",
              " 'research': 1,\n",
              " 'reserve': 1,\n",
              " 'respond': 1,\n",
              " 'result': 1,\n",
              " 'retrieval': 1,\n",
              " 'retrieve': 1,\n",
              " 'return': 1,\n",
              " 'review': 1,\n",
              " 'riga': 1,\n",
              " 'right': 1,\n",
              " 'rolebanner': 1,\n",
              " 'rolenavigation': 1,\n",
              " 'sclassname': 1,\n",
              " 'sclassnamereplaceregexp': 1,\n",
              " 'scrap': 1,\n",
              " 'scraper': 1,\n",
              " 'scrapera': 1,\n",
              " 'scraperp': 1,\n",
              " 'script': 1,\n",
              " 'scriptfunction': 1,\n",
              " 'scrollbarsno': 1,\n",
              " 'seem': 1,\n",
              " 'send': 1,\n",
              " 'settimeoutfunction': 1,\n",
              " 'short': 1,\n",
              " 'sitesa': 1,\n",
              " 'sizes128x128': 1,\n",
              " 'snippet': 1,\n",
              " 'solution': 1,\n",
              " 'source': 1,\n",
              " 'span': 1,\n",
              " 'srchttpsblogimageswebscraperioimagesjxmxv5q1epdjsk5yduomj6jchfewkejrqrek9dgopng': 1,\n",
              " 'srchttpswwwgoogletagmanagercomnshtmlidgtmnvfpdwb': 1,\n",
              " 'srcimgfbiconpng': 1,\n",
              " 'srcimglogo_whitesvg': 1,\n",
              " 'srcimgtwiconpng': 1,\n",
              " 'srcjsappjside64f07a3ce1d466cf04cscript': 1,\n",
              " 'start': 1,\n",
              " 'straightforward': 1,\n",
              " 'style': 1,\n",
              " 'styleasynchide': 1,\n",
              " 'styledisplaynonevisibilityhiddeniframe': 1,\n",
              " 'tag': 1,\n",
              " 'take': 1,\n",
              " 'target_blank': 1,\n",
              " 'technical': 1,\n",
              " 'telegram': 1,\n",
              " 'term': 1,\n",
              " 'therefore': 1,\n",
              " 'titlein': 1,\n",
              " 'toa': 1,\n",
              " 'topbarspan': 1,\n",
              " 'true': 1,\n",
              " 'truescript': 1,\n",
              " 'tutorialsa': 1,\n",
              " 'twitter': 1,\n",
              " 'twittera': 1,\n",
              " 'typebutton': 1,\n",
              " 'u': 1,\n",
              " 'ul': 1,\n",
              " 'url': 1,\n",
              " 'uspli': 1,\n",
              " 'var': 1,\n",
              " 'w': 1,\n",
              " 'web': 1,\n",
              " 'whatsapp': 1,\n",
              " 'width0': 1,\n",
              " 'width800': 1,\n",
              " 'window': 1,\n",
              " 'windowlocationhref': 1,\n",
              " 'windowopenhttpstmeshareurlurl': 1,\n",
              " 'windowopenhttpstwittercomintenttweeturl': 1,\n",
              " 'windowopenhttpswametext': 1,\n",
              " 'windowopenhttpswwwfacebookcomsharersharerphpu': 1,\n",
              " 'windowopenhttpswwwlinkedincomsharearticleminitrue': 1,\n",
              " 'windowopenhttpwwwredditcomsubmiturl': 1,\n",
              " 'would': 1,\n",
              " 'write': 1,\n",
              " 'youppthe': 1,\n",
              " 'zoom59p': 1,\n",
              " '’': 1}"
            ]
          },
          "metadata": {},
          "execution_count": 31
        }
      ]
    },
    {
      "cell_type": "code",
      "metadata": {
        "id": "N8KWZxizYi5H",
        "colab": {
          "base_uri": "https://localhost:8080/"
        },
        "outputId": "97d75a5c-9bde-415d-8769-4ce5f633f080"
      },
      "source": [
        "# Membandingkan jumlah kata unik sebelum dan setelah preprocessing dengan melihat isi dari bag of words\n",
        "print(len(frekuensi_kata))\n",
        "print(len(frekuensi_kata_postprocessing))"
      ],
      "id": "N8KWZxizYi5H",
      "execution_count": null,
      "outputs": [
        {
          "output_type": "stream",
          "name": "stdout",
          "text": [
            "384\n",
            "379\n"
          ]
        }
      ]
    }
  ]
}